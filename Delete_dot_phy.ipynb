{
 "cells": [
  {
   "cell_type": "markdown",
   "id": "19e476f5-5dd1-4eb6-9244-da33a7f318f5",
   "metadata": {},
   "source": [
    "# The `.phy` folder in `phy` folders can be deleted as this folder is simply used to increase the speed of opening phy and is recreated on every open"
   ]
  },
  {
   "cell_type": "code",
   "execution_count": 1,
   "id": "9d92aadb-be4d-4dfb-ba57-250edb3de568",
   "metadata": {
    "tags": []
   },
   "outputs": [],
   "source": [
    "import os\n",
    "import shutil\n",
    "\n",
    "def delete_dot_phy_folders(src_root):\n",
    "    for root, dirs, files in os.walk(src_root):\n",
    "        # Check if the current directory is 'phy'\n",
    "        if os.path.basename(root) == 'phy':\n",
    "            # Check if any sub-directory is named '.phy'\n",
    "            if '.phy' in dirs:\n",
    "                # Construct the path to the '.phy' directory\n",
    "                dot_phy_dir = os.path.join(root, '.phy')\n",
    "                # Delete the '.phy' directory and its contents\n",
    "                shutil.rmtree(dot_phy_dir)\n",
    "                print(f\"Deleted {dot_phy_dir}\")\n",
    "\n",
    "# Define the source directory\n",
    "src_root = r'D:\\pc_lab\\RCE\\finished_proc\\phy_curation'\n",
    "\n",
    "# Call the function to start the deletion process\n",
    "delete_dot_phy_folders(src_root)"
   ]
  },
  {
   "cell_type": "code",
   "execution_count": 2,
   "id": "e2b961cc-a288-4522-9ab2-48b18943b194",
   "metadata": {},
   "outputs": [],
   "source": [
    "import os\n",
    "import shutil\n",
    "\n",
    "def print_folders(src_root):\n",
    "    for root, dirs, files in os.walk(src_root):\n",
    "        # Check if the current directory is 'phy'\n",
    "        if os.path.basename(root) == 'phy':\n",
    "            # Check if any sub-directory is named '.phy'\n",
    "            if '.phy' in dirs:\n",
    "                print(f\"{dot_phy_dir}\")\n",
    "\n",
    "# Define the source directory\n",
    "src_root = r'D:\\pc_lab\\RCE\\finished_proc\\phy_curation'\n",
    "\n",
    "# Call the function to start the deletion process\n",
    "delete_dot_phy_folders(src_root)"
   ]
  },
  {
   "cell_type": "code",
   "execution_count": null,
   "id": "0c2c773f-ff93-4988-8212-7ee4dbeb8a13",
   "metadata": {},
   "outputs": [],
   "source": []
  }
 ],
 "metadata": {
  "kernelspec": {
   "display_name": "Python 3 (ipykernel)",
   "language": "python",
   "name": "python3"
  },
  "language_info": {
   "codemirror_mode": {
    "name": "ipython",
    "version": 3
   },
   "file_extension": ".py",
   "mimetype": "text/x-python",
   "name": "python",
   "nbconvert_exporter": "python",
   "pygments_lexer": "ipython3",
   "version": "3.8.18"
  }
 },
 "nbformat": 4,
 "nbformat_minor": 5
}
