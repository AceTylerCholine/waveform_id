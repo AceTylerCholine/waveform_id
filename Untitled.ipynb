{
 "cells": [
  {
   "cell_type": "code",
   "execution_count": 1,
   "id": "bb4145d3-aae9-4936-8b32-06b9d2dcdd17",
   "metadata": {
    "execution": {
     "iopub.execute_input": "2024-07-08T15:28:44.562387Z",
     "iopub.status.busy": "2024-07-08T15:28:44.561389Z",
     "iopub.status.idle": "2024-07-08T15:28:51.859797Z",
     "shell.execute_reply": "2024-07-08T15:28:51.857785Z",
     "shell.execute_reply.started": "2024-07-08T15:28:44.562387Z"
    },
    "tags": []
   },
   "outputs": [],
   "source": [
    "import pandas as pd\n",
    "import numpy as np\n",
    "\n",
    "import sys\n",
    "import matplotlib.pyplot as plt\n",
    "from phylib.io.model import load_model\n",
    "from phylib.utils.color import selected_cluster_color"
   ]
  },
  {
   "cell_type": "code",
   "execution_count": 2,
   "id": "bb9991d5-993e-4cd4-b849-be2213fda7ae",
   "metadata": {
    "execution": {
     "iopub.execute_input": "2024-07-08T15:28:51.864793Z",
     "iopub.status.busy": "2024-07-08T15:28:51.863802Z",
     "iopub.status.idle": "2024-07-08T15:28:51.938374Z",
     "shell.execute_reply": "2024-07-08T15:28:51.936365Z",
     "shell.execute_reply.started": "2024-07-08T15:28:51.864793Z"
    },
    "tags": []
   },
   "outputs": [],
   "source": [
    "# Read the TSV file\n",
    "cluster_info = pd.read_csv(r'.\\test1\\20240320_142408_alone_comp_subj_3-1_t6b6_merged.rec\\phy\\cluster_info.tsv', sep='\\t')\n",
    "\n",
    "good_clusters = np.intersect1d(\n",
    "    cluster_info['cluster_id'][cluster_info['group'] == 'good'],\n",
    "    cluster_info['cluster_id'][cluster_info['fr'] > 0.5]\n",
    ")"
   ]
  },
  {
   "cell_type": "code",
   "execution_count": 3,
   "id": "4a8ba02b-73b4-4a27-a86e-4effd50d9a18",
   "metadata": {
    "execution": {
     "iopub.execute_input": "2024-07-08T15:28:51.942375Z",
     "iopub.status.busy": "2024-07-08T15:28:51.941364Z",
     "iopub.status.idle": "2024-07-08T15:28:52.376180Z",
     "shell.execute_reply": "2024-07-08T15:28:52.376180Z",
     "shell.execute_reply.started": "2024-07-08T15:28:51.942375Z"
    },
    "tags": []
   },
   "outputs": [],
   "source": [
    "# Directly specify the path to params.py\n",
    "params_path = r'.\\test1\\20240320_142408_alone_comp_subj_3-1_t6b6_merged.rec\\phy\\params.py'\n",
    "\n",
    "# Load the TemplateModel\n",
    "model = load_model(params_path)"
   ]
  },
  {
   "cell_type": "code",
   "execution_count": 4,
   "id": "fc35cf69-7f93-415e-a395-b62efbbbe540",
   "metadata": {
    "execution": {
     "iopub.execute_input": "2024-07-08T15:28:52.376180Z",
     "iopub.status.busy": "2024-07-08T15:28:52.376180Z",
     "iopub.status.idle": "2024-07-08T15:31:20.542586Z",
     "shell.execute_reply": "2024-07-08T15:31:20.504419Z",
     "shell.execute_reply.started": "2024-07-08T15:28:52.376180Z"
    },
    "tags": []
   },
   "outputs": [],
   "source": [
    "cluster_waveforms = {}\n",
    "\n",
    "for cluster_id in good_clusters:\n",
    "    # Get the waveforms for the cluster\n",
    "    waveforms = model.get_cluster_spike_waveforms(cluster_id)\n",
    "    \n",
    "    # Get the channel IDs and find the best channel (assuming it's the first one returned by get_cluster_channels)\n",
    "    channel_ids = model.get_cluster_channels(cluster_id)\n",
    "    best_channel = channel_ids[0]\n",
    "    \n",
    "    # Get the waveform for just the best channel. Since the data is already in 40 time points, no subsampling is needed\n",
    "    best_channel_waveforms = waveforms[:, :, 0]  # Since channel_ids[0] is the best channel\n",
    "    # Store the waveforms in the dictionary. \n",
    "    cluster_waveforms[cluster_id] = best_channel_waveforms "
   ]
  },
  {
   "cell_type": "code",
   "execution_count": 5,
   "id": "a7914f62-5115-40a7-954b-d762d55f95fa",
   "metadata": {
    "execution": {
     "iopub.execute_input": "2024-07-08T15:31:20.600835Z",
     "iopub.status.busy": "2024-07-08T15:31:20.597595Z",
     "iopub.status.idle": "2024-07-08T15:31:20.910639Z",
     "shell.execute_reply": "2024-07-08T15:31:20.908642Z",
     "shell.execute_reply.started": "2024-07-08T15:31:20.600835Z"
    },
    "tags": []
   },
   "outputs": [
    {
     "data": {
      "text/plain": [
       "{9: array([[ 0.40537423,  0.9204547 ,  1.3042495 , ...,  2.269646  ,\n",
       "          0.89965886,  0.1729701 ],\n",
       "        [ 1.4716856 , -0.18663864, -1.8644416 , ...,  1.7085094 ,\n",
       "          1.6655885 ,  1.0949929 ],\n",
       "        [ 1.2226917 ,  0.27370277,  0.15729961, ..., -0.11720731,\n",
       "          0.83251476,  1.9278888 ],\n",
       "        ...,\n",
       "        [-0.6192026 , -1.5477538 , -0.3860595 , ...,  2.0028834 ,\n",
       "          3.7053027 ,  0.17694335],\n",
       "        [-1.674623  , -0.97858775, -0.06450201, ...,  1.6264546 ,\n",
       "          0.7814573 ,  0.6139724 ],\n",
       "        [-0.1571035 , -0.70310694, -0.836848  , ...,  2.4313078 ,\n",
       "          1.1730937 ,  1.1040318 ]], dtype=float32),\n",
       " 13: array([[0.74050546, 1.1471487 , 1.1523566 , ..., 2.8801389 , 2.9853294 ,\n",
       "         3.0963612 ],\n",
       "        [0.33376965, 0.1129124 , 0.25598168, ..., 1.8844459 , 2.5375013 ,\n",
       "         3.7338994 ],\n",
       "        [3.7924511 , 3.189696  , 2.8261626 , ..., 5.365091  , 5.273031  ,\n",
       "         4.5386353 ],\n",
       "        ...,\n",
       "        [1.6787068 , 2.0034997 , 2.0164783 , ..., 2.540442  , 2.361846  ,\n",
       "         2.5961041 ],\n",
       "        [2.719232  , 3.0306926 , 2.3892043 , ..., 3.8319478 , 3.7461836 ,\n",
       "         3.3095787 ],\n",
       "        [1.6769528 , 2.0283432 , 2.747551  , ..., 2.2611334 , 2.9865813 ,\n",
       "         3.6893952 ]], dtype=float32),\n",
       " 18: array([[ 1.3493047 ,  0.619357  ,  0.16172056, ..., -1.1463724 ,\n",
       "          0.17650308,  1.0710458 ],\n",
       "        [-1.0457903 , -2.1319501 , -1.8750024 , ...,  2.1727092 ,\n",
       "          0.99982935, -0.33021143],\n",
       "        [ 0.32599217,  0.16503921,  0.27732855, ..., -0.32217443,\n",
       "          0.17236593, -0.05150402],\n",
       "        ...,\n",
       "        [-0.8854631 ,  0.32515067,  0.34736264, ...,  0.65139574,\n",
       "          0.61848736, -0.7566372 ],\n",
       "        [ 1.4612421 ,  1.3895288 ,  0.8098548 , ..., -0.02361186,\n",
       "         -0.3044081 ,  0.2052774 ],\n",
       "        [ 0.39748198,  0.8318121 ,  1.0252188 , ..., -0.1988105 ,\n",
       "         -0.12839423, -0.97113127]], dtype=float32),\n",
       " 20: array([[1.3671987 , 2.082383  , 2.279984  , ..., 2.01403   , 2.8565178 ,\n",
       "         2.8321984 ],\n",
       "        [2.1851344 , 0.8611344 , 0.48307177, ..., 3.4429138 , 3.8160903 ,\n",
       "         3.5087311 ],\n",
       "        [0.7703249 , 1.3822025 , 1.4295958 , ..., 2.7536454 , 2.4123378 ,\n",
       "         2.142502  ],\n",
       "        ...,\n",
       "        [2.0823917 , 1.5850147 , 1.1422516 , ..., 3.053158  , 3.027018  ,\n",
       "         2.632094  ],\n",
       "        [1.1033891 , 1.3484769 , 0.5643724 , ..., 1.630746  , 0.35185224,\n",
       "         0.3892937 ],\n",
       "        [0.9196808 , 1.0014821 , 1.6788155 , ..., 3.6782575 , 3.4006321 ,\n",
       "         3.0454261 ]], dtype=float32),\n",
       " 115: array([[-1.4444315 , -1.8545597 , -0.09212058, ..., -1.3405765 ,\n",
       "         -0.06248673,  0.40132537],\n",
       "        [ 1.0003941 , -0.36613247, -1.5997725 , ...,  0.83614635,\n",
       "         -0.4864529 , -0.65551907],\n",
       "        [ 1.4110906 ,  1.1981518 ,  0.294652  , ...,  1.8336692 ,\n",
       "          1.5985953 ,  0.31652   ],\n",
       "        ...,\n",
       "        [ 0.39812076, -0.14235383, -0.03398512, ...,  1.1683561 ,\n",
       "          1.7905493 ,  1.64884   ],\n",
       "        [ 0.6166638 ,  0.4911649 ,  0.03128317, ..., -0.5051777 ,\n",
       "         -0.07413642,  0.20972052],\n",
       "        [-2.9822803 , -2.7491775 , -1.5092561 , ...,  0.31147656,\n",
       "          0.85704243,  1.6544567 ]], dtype=float32),\n",
       " 117: array([[ 3.0652988e-03,  7.6683294e-03,  2.0962958e-01, ...,\n",
       "          3.4154861e+00,  2.4242194e+00,  2.3850234e+00],\n",
       "        [ 8.5359031e-01,  7.1648288e-01,  1.0315886e+00, ...,\n",
       "          1.2333052e+00,  1.5011677e+00,  7.0454276e-01],\n",
       "        [-7.1695483e-01, -4.2525470e-01, -8.0104136e-01, ...,\n",
       "          1.6927334e+00,  2.1589284e+00,  2.2851896e+00],\n",
       "        ...,\n",
       "        [-1.9302584e+00, -7.6183051e-01,  1.4385498e+00, ...,\n",
       "          2.2544894e+00,  1.2180524e+00,  7.4693960e-01],\n",
       "        [ 3.5493067e-01,  5.8153677e-01,  6.3269429e-02, ...,\n",
       "          2.1838758e+00,  2.3007801e+00,  1.8068649e+00],\n",
       "        [ 1.4697404e+00,  9.6029615e-01,  2.2761877e+00, ...,\n",
       "          1.1059222e+00, -2.0028825e-01, -1.4888754e+00]], dtype=float32),\n",
       " 123: array([[ 1.0744777 ,  0.7188    ,  0.64389545, ...,  2.5328283 ,\n",
       "          3.8838315 ,  3.5077317 ],\n",
       "        [ 1.1351234 ,  1.3261033 ,  0.86495453, ...,  2.5826457 ,\n",
       "          0.31013638, -1.2630208 ],\n",
       "        [ 1.1446444 ,  0.91434515, -0.25099754, ...,  2.8546808 ,\n",
       "          2.0314016 ,  1.3037884 ],\n",
       "        ...,\n",
       "        [-0.28052908,  0.5328332 ,  1.3396878 , ...,  3.1357238 ,\n",
       "          3.9290297 ,  2.8191457 ],\n",
       "        [-0.748173  ,  0.00748   ,  1.3200591 , ...,  0.5118059 ,\n",
       "          0.3104491 ,  1.413636  ],\n",
       "        [ 0.9893955 ,  0.7199041 ,  0.1816968 , ...,  2.0997176 ,\n",
       "          1.7835532 ,  0.7913588 ]], dtype=float32),\n",
       " 150: array([[-0.02409553,  0.6165436 , -0.15685084, ...,  1.3945104 ,\n",
       "          1.4983191 ,  0.4345853 ],\n",
       "        [ 1.0869029 ,  0.2129372 , -0.3564966 , ...,  1.4394896 ,\n",
       "          1.5674856 ,  0.8589264 ],\n",
       "        [ 1.728833  ,  1.2641896 ,  0.5277945 , ...,  0.49169838,\n",
       "          0.740534  ,  0.7883151 ],\n",
       "        ...,\n",
       "        [ 0.938286  ,  0.49765232,  0.82971376, ..., -0.39872736,\n",
       "          1.0802045 ,  1.7850709 ],\n",
       "        [-0.50625694,  0.92818046,  1.5258281 , ...,  0.72846854,\n",
       "          0.834615  ,  0.9635159 ],\n",
       "        [ 2.125998  ,  1.7642605 ,  1.0133661 , ...,  1.7451942 ,\n",
       "          2.5066729 ,  1.793781  ]], dtype=float32),\n",
       " 154: array([[-0.21620075, -1.0463643 , -1.0222704 , ...,  0.7587049 ,\n",
       "          1.358793  ,  0.92648894],\n",
       "        [-1.694932  , -0.6632204 ,  0.57062674, ...,  1.8329808 ,\n",
       "          1.5224836 ,  1.4949642 ],\n",
       "        [ 0.19663939,  0.4132909 ,  0.5936487 , ...,  0.21853998,\n",
       "          0.30196667,  0.73331684],\n",
       "        ...,\n",
       "        [ 0.51378196,  0.05862967, -0.31413653, ...,  0.6675739 ,\n",
       "          0.91107064,  1.9022685 ],\n",
       "        [ 1.6243165 ,  1.0635947 ,  0.22128713, ...,  1.9547985 ,\n",
       "          1.0765884 ,  0.6828854 ],\n",
       "        [-1.0986818 ,  0.36730167,  0.8164876 , ...,  0.89536124,\n",
       "          0.05552766,  0.19552782]], dtype=float32),\n",
       " 190: array([[-0.3583337 , -1.0804446 , -0.22278394, ...,  3.1371636 ,\n",
       "          3.3423917 ,  2.3632755 ],\n",
       "        [ 1.2022593 ,  1.7476974 ,  1.4472492 , ...,  2.7672553 ,\n",
       "          0.4109821 , -0.5041535 ],\n",
       "        [ 2.1082544 ,  2.5640907 ,  2.5658457 , ...,  4.6903186 ,\n",
       "          2.2674372 ,  1.9845983 ],\n",
       "        ...,\n",
       "        [-1.0335972 , -0.75413287,  0.30246025, ...,  2.0324275 ,\n",
       "          1.1653258 ,  0.5028006 ],\n",
       "        [ 0.42619714,  0.4164606 ,  0.72125775, ...,  3.2502782 ,\n",
       "          1.9266436 ,  0.9587769 ],\n",
       "        [ 0.19314732,  1.0925943 ,  1.9621822 , ...,  2.273356  ,\n",
       "          1.926786  ,  1.2775131 ]], dtype=float32)}"
      ]
     },
     "execution_count": 5,
     "metadata": {},
     "output_type": "execute_result"
    }
   ],
   "source": [
    "cluster_waveforms"
   ]
  },
  {
   "cell_type": "code",
   "execution_count": 7,
   "id": "f5dedc9a-1400-4f2e-a251-708523285d5a",
   "metadata": {
    "execution": {
     "iopub.execute_input": "2024-07-08T15:31:51.615411Z",
     "iopub.status.busy": "2024-07-08T15:31:51.615411Z",
     "iopub.status.idle": "2024-07-08T15:31:51.662695Z",
     "shell.execute_reply": "2024-07-08T15:31:51.662695Z",
     "shell.execute_reply.started": "2024-07-08T15:31:51.615411Z"
    },
    "tags": []
   },
   "outputs": [
    {
     "name": "stdout",
     "output_type": "stream",
     "text": [
      "Skipping unit 9 due to unexpected shape: (13768, 40)\n",
      "Skipping unit 13 due to unexpected shape: (6260, 40)\n",
      "Skipping unit 18 due to unexpected shape: (78443, 40)\n",
      "Skipping unit 20 due to unexpected shape: (77825, 40)\n",
      "Skipping unit 115 due to unexpected shape: (13468, 40)\n",
      "Skipping unit 117 due to unexpected shape: (1691, 40)\n",
      "Skipping unit 123 due to unexpected shape: (33886, 40)\n",
      "Skipping unit 150 due to unexpected shape: (5366, 40)\n",
      "Skipping unit 154 due to unexpected shape: (29374, 40)\n",
      "Skipping unit 190 due to unexpected shape: (2437, 40)\n",
      "No valid waveforms to process.\n"
     ]
    }
   ],
   "source": [
    "# Assuming your dictionary is named `cluster_waveforms`\n",
    "# Initialize an empty list to collect waveforms\n",
    "all_waveforms = []\n",
    "\n",
    "# Iterate through each unit/spike_cluster in the dictionary\n",
    "for unit, spikes_3d in cluster_waveforms.items():\n",
    "    # Check the shape of the current array\n",
    "    if spikes_3d.ndim == 3:\n",
    "        # Extract the waveforms from the first channel (index 0)\n",
    "        waveforms_first_channel = spikes_3d[:, :, 0]  # Shape: (number_of_spikes, timepoints)\n",
    "        \n",
    "        # Append these waveforms to the list\n",
    "        all_waveforms.append(waveforms_first_channel)\n",
    "    else:\n",
    "        print(f\"Skipping unit {unit} due to unexpected shape: {spikes_3d.shape}\")\n",
    "\n",
    "# Combine all collected waveforms into a single 2D Numpy array\n",
    "if all_waveforms:\n",
    "    W = np.vstack(all_waveforms)  # Shape: (total_number_of_spikes, timepoints)\n",
    "    print(f\"Combined waveform shape: {W.shape}\")\n",
    "else:\n",
    "    print(\"No valid waveforms to process.\")\n",
    "\n",
    "# Now W is ready to be used for further processing, such as calculating SNR"
   ]
  },
  {
   "cell_type": "code",
   "execution_count": 8,
   "id": "d4b9706c-a032-4190-bc58-50dde299bdfd",
   "metadata": {
    "execution": {
     "iopub.execute_input": "2024-07-08T15:31:51.960807Z",
     "iopub.status.busy": "2024-07-08T15:31:51.960807Z",
     "iopub.status.idle": "2024-07-08T15:32:00.959902Z",
     "shell.execute_reply": "2024-07-08T15:32:00.959902Z",
     "shell.execute_reply.started": "2024-07-08T15:31:51.960807Z"
    },
    "tags": []
   },
   "outputs": [
    {
     "name": "stdout",
     "output_type": "stream",
     "text": [
      "Combined waveform shape: (262518, 40)\n"
     ]
    }
   ],
   "source": [
    "# Assuming your dictionary is named `cluster_waveforms`\n",
    "# Initialize an empty list to collect waveforms\n",
    "all_waveforms = []\n",
    "\n",
    "# Iterate through each unit/spike_cluster in the dictionary\n",
    "for unit, spikes in cluster_waveforms.items():\n",
    "    if spikes.ndim == 2:\n",
    "        # If the array is 2D, use it directly\n",
    "        all_waveforms.append(spikes)\n",
    "    else:\n",
    "        print(f\"Skipping unit {unit} due to unexpected shape: {spikes.shape}\")\n",
    "\n",
    "# Combine all collected waveforms into a single 2D Numpy array\n",
    "if all_waveforms:\n",
    "    W = np.vstack(all_waveforms)  # Shape: (total_number_of_spikes, timepoints)\n",
    "    print(f\"Combined waveform shape: {W.shape}\")\n",
    "else:\n",
    "    print(\"No valid waveforms to process.\")\n",
    "\n",
    "# Now W is ready to be used for further processing, such as calculating SNR"
   ]
  },
  {
   "cell_type": "code",
   "execution_count": 9,
   "id": "a1f12215-c10a-4c42-95a7-ea4720645e5a",
   "metadata": {
    "execution": {
     "iopub.execute_input": "2024-07-08T15:32:00.959902Z",
     "iopub.status.busy": "2024-07-08T15:32:00.959902Z",
     "iopub.status.idle": "2024-07-08T15:32:00.991174Z",
     "shell.execute_reply": "2024-07-08T15:32:00.991174Z",
     "shell.execute_reply.started": "2024-07-08T15:32:00.959902Z"
    },
    "tags": []
   },
   "outputs": [
    {
     "data": {
      "text/plain": [
       "10"
      ]
     },
     "execution_count": 9,
     "metadata": {},
     "output_type": "execute_result"
    }
   ],
   "source": [
    "len(all_waveforms)"
   ]
  },
  {
   "cell_type": "code",
   "execution_count": 10,
   "id": "48bba81c-0d19-408b-ba51-cf5ac18fdae9",
   "metadata": {
    "execution": {
     "iopub.execute_input": "2024-07-08T15:32:00.991174Z",
     "iopub.status.busy": "2024-07-08T15:32:00.991174Z",
     "iopub.status.idle": "2024-07-08T15:32:01.022416Z",
     "shell.execute_reply": "2024-07-08T15:32:01.022416Z",
     "shell.execute_reply.started": "2024-07-08T15:32:00.991174Z"
    },
    "tags": []
   },
   "outputs": [
    {
     "data": {
      "text/plain": [
       "13768"
      ]
     },
     "execution_count": 10,
     "metadata": {},
     "output_type": "execute_result"
    }
   ],
   "source": [
    "len(all_waveforms[0])"
   ]
  },
  {
   "cell_type": "code",
   "execution_count": 11,
   "id": "6e6902e1-5e12-4f1d-9ce7-933420337b4a",
   "metadata": {
    "execution": {
     "iopub.execute_input": "2024-07-08T15:32:01.022416Z",
     "iopub.status.busy": "2024-07-08T15:32:01.022416Z",
     "iopub.status.idle": "2024-07-08T15:32:01.053670Z",
     "shell.execute_reply": "2024-07-08T15:32:01.053670Z",
     "shell.execute_reply.started": "2024-07-08T15:32:01.022416Z"
    },
    "tags": []
   },
   "outputs": [
    {
     "data": {
      "text/plain": [
       "13768"
      ]
     },
     "execution_count": 11,
     "metadata": {},
     "output_type": "execute_result"
    }
   ],
   "source": [
    "len(cluster_waveforms[9])"
   ]
  },
  {
   "cell_type": "code",
   "execution_count": 12,
   "id": "7f15768b-e1c8-43f3-ab02-bbe126ea06f3",
   "metadata": {
    "execution": {
     "iopub.execute_input": "2024-07-08T15:32:01.060196Z",
     "iopub.status.busy": "2024-07-08T15:32:01.053670Z",
     "iopub.status.idle": "2024-07-08T15:32:01.100982Z",
     "shell.execute_reply": "2024-07-08T15:32:01.100982Z",
     "shell.execute_reply.started": "2024-07-08T15:32:01.060196Z"
    },
    "tags": []
   },
   "outputs": [
    {
     "data": {
      "text/plain": [
       "[array([[ 0.40537423,  0.9204547 ,  1.3042495 , ...,  2.269646  ,\n",
       "          0.89965886,  0.1729701 ],\n",
       "        [ 1.4716856 , -0.18663864, -1.8644416 , ...,  1.7085094 ,\n",
       "          1.6655885 ,  1.0949929 ],\n",
       "        [ 1.2226917 ,  0.27370277,  0.15729961, ..., -0.11720731,\n",
       "          0.83251476,  1.9278888 ],\n",
       "        ...,\n",
       "        [-0.6192026 , -1.5477538 , -0.3860595 , ...,  2.0028834 ,\n",
       "          3.7053027 ,  0.17694335],\n",
       "        [-1.674623  , -0.97858775, -0.06450201, ...,  1.6264546 ,\n",
       "          0.7814573 ,  0.6139724 ],\n",
       "        [-0.1571035 , -0.70310694, -0.836848  , ...,  2.4313078 ,\n",
       "          1.1730937 ,  1.1040318 ]], dtype=float32),\n",
       " array([[0.74050546, 1.1471487 , 1.1523566 , ..., 2.8801389 , 2.9853294 ,\n",
       "         3.0963612 ],\n",
       "        [0.33376965, 0.1129124 , 0.25598168, ..., 1.8844459 , 2.5375013 ,\n",
       "         3.7338994 ],\n",
       "        [3.7924511 , 3.189696  , 2.8261626 , ..., 5.365091  , 5.273031  ,\n",
       "         4.5386353 ],\n",
       "        ...,\n",
       "        [1.6787068 , 2.0034997 , 2.0164783 , ..., 2.540442  , 2.361846  ,\n",
       "         2.5961041 ],\n",
       "        [2.719232  , 3.0306926 , 2.3892043 , ..., 3.8319478 , 3.7461836 ,\n",
       "         3.3095787 ],\n",
       "        [1.6769528 , 2.0283432 , 2.747551  , ..., 2.2611334 , 2.9865813 ,\n",
       "         3.6893952 ]], dtype=float32),\n",
       " array([[ 1.3493047 ,  0.619357  ,  0.16172056, ..., -1.1463724 ,\n",
       "          0.17650308,  1.0710458 ],\n",
       "        [-1.0457903 , -2.1319501 , -1.8750024 , ...,  2.1727092 ,\n",
       "          0.99982935, -0.33021143],\n",
       "        [ 0.32599217,  0.16503921,  0.27732855, ..., -0.32217443,\n",
       "          0.17236593, -0.05150402],\n",
       "        ...,\n",
       "        [-0.8854631 ,  0.32515067,  0.34736264, ...,  0.65139574,\n",
       "          0.61848736, -0.7566372 ],\n",
       "        [ 1.4612421 ,  1.3895288 ,  0.8098548 , ..., -0.02361186,\n",
       "         -0.3044081 ,  0.2052774 ],\n",
       "        [ 0.39748198,  0.8318121 ,  1.0252188 , ..., -0.1988105 ,\n",
       "         -0.12839423, -0.97113127]], dtype=float32),\n",
       " array([[1.3671987 , 2.082383  , 2.279984  , ..., 2.01403   , 2.8565178 ,\n",
       "         2.8321984 ],\n",
       "        [2.1851344 , 0.8611344 , 0.48307177, ..., 3.4429138 , 3.8160903 ,\n",
       "         3.5087311 ],\n",
       "        [0.7703249 , 1.3822025 , 1.4295958 , ..., 2.7536454 , 2.4123378 ,\n",
       "         2.142502  ],\n",
       "        ...,\n",
       "        [2.0823917 , 1.5850147 , 1.1422516 , ..., 3.053158  , 3.027018  ,\n",
       "         2.632094  ],\n",
       "        [1.1033891 , 1.3484769 , 0.5643724 , ..., 1.630746  , 0.35185224,\n",
       "         0.3892937 ],\n",
       "        [0.9196808 , 1.0014821 , 1.6788155 , ..., 3.6782575 , 3.4006321 ,\n",
       "         3.0454261 ]], dtype=float32),\n",
       " array([[-1.4444315 , -1.8545597 , -0.09212058, ..., -1.3405765 ,\n",
       "         -0.06248673,  0.40132537],\n",
       "        [ 1.0003941 , -0.36613247, -1.5997725 , ...,  0.83614635,\n",
       "         -0.4864529 , -0.65551907],\n",
       "        [ 1.4110906 ,  1.1981518 ,  0.294652  , ...,  1.8336692 ,\n",
       "          1.5985953 ,  0.31652   ],\n",
       "        ...,\n",
       "        [ 0.39812076, -0.14235383, -0.03398512, ...,  1.1683561 ,\n",
       "          1.7905493 ,  1.64884   ],\n",
       "        [ 0.6166638 ,  0.4911649 ,  0.03128317, ..., -0.5051777 ,\n",
       "         -0.07413642,  0.20972052],\n",
       "        [-2.9822803 , -2.7491775 , -1.5092561 , ...,  0.31147656,\n",
       "          0.85704243,  1.6544567 ]], dtype=float32),\n",
       " array([[ 3.0652988e-03,  7.6683294e-03,  2.0962958e-01, ...,\n",
       "          3.4154861e+00,  2.4242194e+00,  2.3850234e+00],\n",
       "        [ 8.5359031e-01,  7.1648288e-01,  1.0315886e+00, ...,\n",
       "          1.2333052e+00,  1.5011677e+00,  7.0454276e-01],\n",
       "        [-7.1695483e-01, -4.2525470e-01, -8.0104136e-01, ...,\n",
       "          1.6927334e+00,  2.1589284e+00,  2.2851896e+00],\n",
       "        ...,\n",
       "        [-1.9302584e+00, -7.6183051e-01,  1.4385498e+00, ...,\n",
       "          2.2544894e+00,  1.2180524e+00,  7.4693960e-01],\n",
       "        [ 3.5493067e-01,  5.8153677e-01,  6.3269429e-02, ...,\n",
       "          2.1838758e+00,  2.3007801e+00,  1.8068649e+00],\n",
       "        [ 1.4697404e+00,  9.6029615e-01,  2.2761877e+00, ...,\n",
       "          1.1059222e+00, -2.0028825e-01, -1.4888754e+00]], dtype=float32),\n",
       " array([[ 1.0744777 ,  0.7188    ,  0.64389545, ...,  2.5328283 ,\n",
       "          3.8838315 ,  3.5077317 ],\n",
       "        [ 1.1351234 ,  1.3261033 ,  0.86495453, ...,  2.5826457 ,\n",
       "          0.31013638, -1.2630208 ],\n",
       "        [ 1.1446444 ,  0.91434515, -0.25099754, ...,  2.8546808 ,\n",
       "          2.0314016 ,  1.3037884 ],\n",
       "        ...,\n",
       "        [-0.28052908,  0.5328332 ,  1.3396878 , ...,  3.1357238 ,\n",
       "          3.9290297 ,  2.8191457 ],\n",
       "        [-0.748173  ,  0.00748   ,  1.3200591 , ...,  0.5118059 ,\n",
       "          0.3104491 ,  1.413636  ],\n",
       "        [ 0.9893955 ,  0.7199041 ,  0.1816968 , ...,  2.0997176 ,\n",
       "          1.7835532 ,  0.7913588 ]], dtype=float32),\n",
       " array([[-0.02409553,  0.6165436 , -0.15685084, ...,  1.3945104 ,\n",
       "          1.4983191 ,  0.4345853 ],\n",
       "        [ 1.0869029 ,  0.2129372 , -0.3564966 , ...,  1.4394896 ,\n",
       "          1.5674856 ,  0.8589264 ],\n",
       "        [ 1.728833  ,  1.2641896 ,  0.5277945 , ...,  0.49169838,\n",
       "          0.740534  ,  0.7883151 ],\n",
       "        ...,\n",
       "        [ 0.938286  ,  0.49765232,  0.82971376, ..., -0.39872736,\n",
       "          1.0802045 ,  1.7850709 ],\n",
       "        [-0.50625694,  0.92818046,  1.5258281 , ...,  0.72846854,\n",
       "          0.834615  ,  0.9635159 ],\n",
       "        [ 2.125998  ,  1.7642605 ,  1.0133661 , ...,  1.7451942 ,\n",
       "          2.5066729 ,  1.793781  ]], dtype=float32),\n",
       " array([[-0.21620075, -1.0463643 , -1.0222704 , ...,  0.7587049 ,\n",
       "          1.358793  ,  0.92648894],\n",
       "        [-1.694932  , -0.6632204 ,  0.57062674, ...,  1.8329808 ,\n",
       "          1.5224836 ,  1.4949642 ],\n",
       "        [ 0.19663939,  0.4132909 ,  0.5936487 , ...,  0.21853998,\n",
       "          0.30196667,  0.73331684],\n",
       "        ...,\n",
       "        [ 0.51378196,  0.05862967, -0.31413653, ...,  0.6675739 ,\n",
       "          0.91107064,  1.9022685 ],\n",
       "        [ 1.6243165 ,  1.0635947 ,  0.22128713, ...,  1.9547985 ,\n",
       "          1.0765884 ,  0.6828854 ],\n",
       "        [-1.0986818 ,  0.36730167,  0.8164876 , ...,  0.89536124,\n",
       "          0.05552766,  0.19552782]], dtype=float32),\n",
       " array([[-0.3583337 , -1.0804446 , -0.22278394, ...,  3.1371636 ,\n",
       "          3.3423917 ,  2.3632755 ],\n",
       "        [ 1.2022593 ,  1.7476974 ,  1.4472492 , ...,  2.7672553 ,\n",
       "          0.4109821 , -0.5041535 ],\n",
       "        [ 2.1082544 ,  2.5640907 ,  2.5658457 , ...,  4.6903186 ,\n",
       "          2.2674372 ,  1.9845983 ],\n",
       "        ...,\n",
       "        [-1.0335972 , -0.75413287,  0.30246025, ...,  2.0324275 ,\n",
       "          1.1653258 ,  0.5028006 ],\n",
       "        [ 0.42619714,  0.4164606 ,  0.72125775, ...,  3.2502782 ,\n",
       "          1.9266436 ,  0.9587769 ],\n",
       "        [ 0.19314732,  1.0925943 ,  1.9621822 , ...,  2.273356  ,\n",
       "          1.926786  ,  1.2775131 ]], dtype=float32)]"
      ]
     },
     "execution_count": 12,
     "metadata": {},
     "output_type": "execute_result"
    }
   ],
   "source": [
    "all_waveforms"
   ]
  },
  {
   "cell_type": "code",
   "execution_count": 13,
   "id": "4630f290-55dd-435b-a78e-3b2699bfd167",
   "metadata": {
    "execution": {
     "iopub.execute_input": "2024-07-08T15:32:01.100982Z",
     "iopub.status.busy": "2024-07-08T15:32:01.100982Z",
     "iopub.status.idle": "2024-07-08T15:32:01.132230Z",
     "shell.execute_reply": "2024-07-08T15:32:01.132230Z",
     "shell.execute_reply.started": "2024-07-08T15:32:01.100982Z"
    },
    "tags": []
   },
   "outputs": [
    {
     "data": {
      "text/plain": [
       "array([[ 0.40537423,  0.9204547 ,  1.3042495 , ...,  2.269646  ,\n",
       "         0.89965886,  0.1729701 ],\n",
       "       [ 1.4716856 , -0.18663864, -1.8644416 , ...,  1.7085094 ,\n",
       "         1.6655885 ,  1.0949929 ],\n",
       "       [ 1.2226917 ,  0.27370277,  0.15729961, ..., -0.11720731,\n",
       "         0.83251476,  1.9278888 ],\n",
       "       ...,\n",
       "       [-0.6192026 , -1.5477538 , -0.3860595 , ...,  2.0028834 ,\n",
       "         3.7053027 ,  0.17694335],\n",
       "       [-1.674623  , -0.97858775, -0.06450201, ...,  1.6264546 ,\n",
       "         0.7814573 ,  0.6139724 ],\n",
       "       [-0.1571035 , -0.70310694, -0.836848  , ...,  2.4313078 ,\n",
       "         1.1730937 ,  1.1040318 ]], dtype=float32)"
      ]
     },
     "execution_count": 13,
     "metadata": {},
     "output_type": "execute_result"
    }
   ],
   "source": [
    "all_waveforms[0]"
   ]
  },
  {
   "cell_type": "code",
   "execution_count": 14,
   "id": "fb4ed883-3072-4442-a9fd-f6135d77ac1a",
   "metadata": {
    "execution": {
     "iopub.execute_input": "2024-07-08T15:32:01.132230Z",
     "iopub.status.busy": "2024-07-08T15:32:01.132230Z",
     "iopub.status.idle": "2024-07-08T15:32:01.163901Z",
     "shell.execute_reply": "2024-07-08T15:32:01.163901Z",
     "shell.execute_reply.started": "2024-07-08T15:32:01.132230Z"
    },
    "tags": []
   },
   "outputs": [
    {
     "data": {
      "text/plain": [
       "array([  0.40537423,   0.9204547 ,   1.3042495 ,   0.66315186,\n",
       "        -0.83373624,  -1.3520111 ,  -0.45797062,  -0.0220464 ,\n",
       "        -0.36910826,   0.3050875 ,   1.4935703 ,   0.8006043 ,\n",
       "        -0.44051605,   1.1329583 ,   4.469434  ,   7.3652925 ,\n",
       "        10.524259  ,  10.669554  ,   2.2784607 ,  -9.069311  ,\n",
       "       -12.297354  ,  -8.102026  ,  -4.433738  ,  -3.3412938 ,\n",
       "        -3.1506605 ,  -3.1593354 ,  -2.5206325 ,  -1.4534206 ,\n",
       "        -1.2984093 ,  -1.4807814 ,  -0.7342157 ,   0.31443456,\n",
       "         0.7896247 ,   0.92220134,   1.1487566 ,   1.8166375 ,\n",
       "         2.5917692 ,   2.269646  ,   0.89965886,   0.1729701 ],\n",
       "      dtype=float32)"
      ]
     },
     "execution_count": 14,
     "metadata": {},
     "output_type": "execute_result"
    }
   ],
   "source": [
    "all_waveforms[0][0]"
   ]
  },
  {
   "cell_type": "code",
   "execution_count": 15,
   "id": "b53a3dd5-7a65-4db4-8b67-f2a615aafe2e",
   "metadata": {
    "execution": {
     "iopub.execute_input": "2024-07-08T15:32:01.163901Z",
     "iopub.status.busy": "2024-07-08T15:32:01.163901Z",
     "iopub.status.idle": "2024-07-08T15:32:01.195169Z",
     "shell.execute_reply": "2024-07-08T15:32:01.195169Z",
     "shell.execute_reply.started": "2024-07-08T15:32:01.163901Z"
    },
    "tags": []
   },
   "outputs": [
    {
     "data": {
      "text/plain": [
       "40"
      ]
     },
     "execution_count": 15,
     "metadata": {},
     "output_type": "execute_result"
    }
   ],
   "source": [
    "len(all_waveforms[0][0])"
   ]
  },
  {
   "cell_type": "code",
   "execution_count": 16,
   "id": "e1914429-9cac-4ad6-a7db-e9a6cae3706b",
   "metadata": {
    "execution": {
     "iopub.execute_input": "2024-07-08T15:32:01.195169Z",
     "iopub.status.busy": "2024-07-08T15:32:01.195169Z",
     "iopub.status.idle": "2024-07-08T15:32:01.226421Z",
     "shell.execute_reply": "2024-07-08T15:32:01.226421Z",
     "shell.execute_reply.started": "2024-07-08T15:32:01.195169Z"
    },
    "tags": []
   },
   "outputs": [
    {
     "data": {
      "text/plain": [
       "array([[ 0.40537423,  0.9204547 ,  1.3042495 , ...,  2.269646  ,\n",
       "         0.89965886,  0.1729701 ],\n",
       "       [ 1.4716856 , -0.18663864, -1.8644416 , ...,  1.7085094 ,\n",
       "         1.6655885 ,  1.0949929 ],\n",
       "       [ 1.2226917 ,  0.27370277,  0.15729961, ..., -0.11720731,\n",
       "         0.83251476,  1.9278888 ],\n",
       "       ...,\n",
       "       [-0.6192026 , -1.5477538 , -0.3860595 , ...,  2.0028834 ,\n",
       "         3.7053027 ,  0.17694335],\n",
       "       [-1.674623  , -0.97858775, -0.06450201, ...,  1.6264546 ,\n",
       "         0.7814573 ,  0.6139724 ],\n",
       "       [-0.1571035 , -0.70310694, -0.836848  , ...,  2.4313078 ,\n",
       "         1.1730937 ,  1.1040318 ]], dtype=float32)"
      ]
     },
     "execution_count": 16,
     "metadata": {},
     "output_type": "execute_result"
    }
   ],
   "source": [
    "cluster_waveforms[9]"
   ]
  },
  {
   "cell_type": "code",
   "execution_count": 17,
   "id": "bbb001a8-4b12-4abd-a402-bddc5b135737",
   "metadata": {
    "execution": {
     "iopub.execute_input": "2024-07-08T15:32:01.226421Z",
     "iopub.status.busy": "2024-07-08T15:32:01.226421Z",
     "iopub.status.idle": "2024-07-08T15:32:01.260910Z",
     "shell.execute_reply": "2024-07-08T15:32:01.257667Z",
     "shell.execute_reply.started": "2024-07-08T15:32:01.226421Z"
    },
    "tags": []
   },
   "outputs": [
    {
     "data": {
      "text/plain": [
       "13768"
      ]
     },
     "execution_count": 17,
     "metadata": {},
     "output_type": "execute_result"
    }
   ],
   "source": [
    "len(cluster_waveforms[9])"
   ]
  },
  {
   "cell_type": "code",
   "execution_count": 18,
   "id": "27f25e61-2103-4cb4-95ed-ef556e67ca3e",
   "metadata": {
    "execution": {
     "iopub.execute_input": "2024-07-08T15:32:01.264929Z",
     "iopub.status.busy": "2024-07-08T15:32:01.263934Z",
     "iopub.status.idle": "2024-07-08T15:32:01.289715Z",
     "shell.execute_reply": "2024-07-08T15:32:01.287747Z",
     "shell.execute_reply.started": "2024-07-08T15:32:01.264929Z"
    },
    "tags": []
   },
   "outputs": [
    {
     "data": {
      "text/plain": [
       "array([  0.40537423,   0.9204547 ,   1.3042495 ,   0.66315186,\n",
       "        -0.83373624,  -1.3520111 ,  -0.45797062,  -0.0220464 ,\n",
       "        -0.36910826,   0.3050875 ,   1.4935703 ,   0.8006043 ,\n",
       "        -0.44051605,   1.1329583 ,   4.469434  ,   7.3652925 ,\n",
       "        10.524259  ,  10.669554  ,   2.2784607 ,  -9.069311  ,\n",
       "       -12.297354  ,  -8.102026  ,  -4.433738  ,  -3.3412938 ,\n",
       "        -3.1506605 ,  -3.1593354 ,  -2.5206325 ,  -1.4534206 ,\n",
       "        -1.2984093 ,  -1.4807814 ,  -0.7342157 ,   0.31443456,\n",
       "         0.7896247 ,   0.92220134,   1.1487566 ,   1.8166375 ,\n",
       "         2.5917692 ,   2.269646  ,   0.89965886,   0.1729701 ],\n",
       "      dtype=float32)"
      ]
     },
     "execution_count": 18,
     "metadata": {},
     "output_type": "execute_result"
    }
   ],
   "source": [
    "cluster_waveforms[9][0]"
   ]
  },
  {
   "cell_type": "code",
   "execution_count": 19,
   "id": "b5bf5b63-27ee-408d-bd45-eca958cabf0c",
   "metadata": {
    "execution": {
     "iopub.execute_input": "2024-07-08T15:32:01.296718Z",
     "iopub.status.busy": "2024-07-08T15:32:01.294722Z",
     "iopub.status.idle": "2024-07-08T15:32:01.314943Z",
     "shell.execute_reply": "2024-07-08T15:32:01.311656Z",
     "shell.execute_reply.started": "2024-07-08T15:32:01.296718Z"
    },
    "tags": []
   },
   "outputs": [
    {
     "data": {
      "text/plain": [
       "40"
      ]
     },
     "execution_count": 19,
     "metadata": {},
     "output_type": "execute_result"
    }
   ],
   "source": [
    "len(cluster_waveforms[9][0])"
   ]
  },
  {
   "cell_type": "code",
   "execution_count": 20,
   "id": "00878c6e-935d-4cd3-b055-02eccf4057df",
   "metadata": {
    "execution": {
     "iopub.execute_input": "2024-07-08T15:32:01.318945Z",
     "iopub.status.busy": "2024-07-08T15:32:01.316941Z",
     "iopub.status.idle": "2024-07-08T15:32:01.339923Z",
     "shell.execute_reply": "2024-07-08T15:32:01.335916Z",
     "shell.execute_reply.started": "2024-07-08T15:32:01.317942Z"
    },
    "tags": []
   },
   "outputs": [
    {
     "data": {
      "text/plain": [
       "5366"
      ]
     },
     "execution_count": 20,
     "metadata": {},
     "output_type": "execute_result"
    }
   ],
   "source": [
    "len(cluster_waveforms[150])"
   ]
  },
  {
   "cell_type": "code",
   "execution_count": 21,
   "id": "2259da64-b91f-4acd-bd57-39c6e7f29ab5",
   "metadata": {
    "execution": {
     "iopub.execute_input": "2024-07-08T15:32:01.348094Z",
     "iopub.status.busy": "2024-07-08T15:32:01.346087Z",
     "iopub.status.idle": "2024-07-08T15:32:01.365202Z",
     "shell.execute_reply": "2024-07-08T15:32:01.362027Z",
     "shell.execute_reply.started": "2024-07-08T15:32:01.348094Z"
    },
    "tags": []
   },
   "outputs": [
    {
     "data": {
      "text/plain": [
       "6260"
      ]
     },
     "execution_count": 21,
     "metadata": {},
     "output_type": "execute_result"
    }
   ],
   "source": [
    "len(all_waveforms[1])"
   ]
  },
  {
   "cell_type": "code",
   "execution_count": 22,
   "id": "073e6d5c-5d92-42b7-862c-7debc2af57e3",
   "metadata": {
    "execution": {
     "iopub.execute_input": "2024-07-08T15:32:01.368878Z",
     "iopub.status.busy": "2024-07-08T15:32:01.368878Z",
     "iopub.status.idle": "2024-07-08T15:32:01.388462Z",
     "shell.execute_reply": "2024-07-08T15:32:01.385471Z",
     "shell.execute_reply.started": "2024-07-08T15:32:01.368878Z"
    },
    "tags": []
   },
   "outputs": [
    {
     "data": {
      "text/plain": [
       "78443"
      ]
     },
     "execution_count": 22,
     "metadata": {},
     "output_type": "execute_result"
    }
   ],
   "source": [
    "len(all_waveforms[2])"
   ]
  },
  {
   "cell_type": "code",
   "execution_count": 24,
   "id": "3114c6a0-82dc-4a2f-84ce-99f87dff6589",
   "metadata": {
    "execution": {
     "iopub.execute_input": "2024-07-08T15:32:26.201337Z",
     "iopub.status.busy": "2024-07-08T15:32:26.201337Z",
     "iopub.status.idle": "2024-07-08T15:32:26.671672Z",
     "shell.execute_reply": "2024-07-08T15:32:26.669675Z",
     "shell.execute_reply.started": "2024-07-08T15:32:26.201337Z"
    },
    "tags": []
   },
   "outputs": [
    {
     "name": "stdout",
     "output_type": "stream",
     "text": [
      "Combined waveform shape: (262518, 40)\n",
      "Signal-to-Noise Ratio (SNR): 3.0603712211149254\n"
     ]
    }
   ],
   "source": [
    "# Function to pad arrays to the same number of columns with NaNs\n",
    "def pad_array(arr, max_length):\n",
    "    pad_width = max_length - arr.shape[1]\n",
    "    if pad_width > 0:\n",
    "        return np.pad(arr, ((0, 0), (0, pad_width)), mode='constant', constant_values=np.nan)\n",
    "    return arr\n",
    "\n",
    "# Assuming your dictionary is named `cluster_waveforms`\n",
    "# Initialize an empty list to collect waveforms\n",
    "all_waveforms = []\n",
    "\n",
    "# Determine the maximum number of timepoints across all clusters\n",
    "max_timepoints = max(spikes.shape[1] for spikes in cluster_waveforms.values() if spikes.ndim == 2)\n",
    "\n",
    "# Iterate through each unit/spike_cluster in the dictionary\n",
    "for unit, spikes in cluster_waveforms.items():\n",
    "    if spikes.ndim == 2:\n",
    "        # Pad the array to the maximum number of timepoints\n",
    "        padded_spikes = pad_array(spikes, max_timepoints)\n",
    "        all_waveforms.append(padded_spikes)\n",
    "    else:\n",
    "        print(f\"Skipping unit {unit} due to unexpected shape: {spikes.shape}\")\n",
    "\n",
    "# Combine all collected waveforms into a single 2D Numpy array\n",
    "if all_waveforms:\n",
    "    W = np.vstack(all_waveforms)  # Shape: (total_number_of_spikes, max_timepoints)\n",
    "    print(f\"Combined waveform shape: {W.shape}\")\n",
    "\n",
    "    # Calculate the mean waveform across all spikes, ignoring NaNs\n",
    "    W_bar = np.nanmean(W, axis=0)\n",
    "\n",
    "    # Calculate the signal amplitude (max - min of the mean waveform), ignoring NaNs\n",
    "    sig_amp = np.nanmax(W_bar) - np.nanmin(W_bar)\n",
    "\n",
    "    # Subtract the mean waveform from each spike to get the noise\n",
    "    noise = W - np.tile(W_bar, (np.shape(W)[0], 1))\n",
    "\n",
    "    # Calculate the signal-to-noise ratio, ignoring NaNs\n",
    "    snr = sig_amp / (2 * np.nanstd(noise.flatten()))\n",
    "    \n",
    "    print(f\"Signal-to-Noise Ratio (SNR): {snr}\")\n",
    "else:\n",
    "    print(\"No valid waveforms to process.\")"
   ]
  },
  {
   "cell_type": "code",
   "execution_count": 25,
   "id": "701a2919-321f-428b-8577-de3e70916ef1",
   "metadata": {
    "execution": {
     "iopub.execute_input": "2024-07-08T15:32:26.835748Z",
     "iopub.status.busy": "2024-07-08T15:32:26.834763Z",
     "iopub.status.idle": "2024-07-08T15:32:27.559722Z",
     "shell.execute_reply": "2024-07-08T15:32:27.557715Z",
     "shell.execute_reply.started": "2024-07-08T15:32:26.835748Z"
    },
    "tags": []
   },
   "outputs": [
    {
     "name": "stdout",
     "output_type": "stream",
     "text": [
      "Filtered waveform shape: (257152, 40)\n",
      "Waveform 0 SNR: 6.2093730912001135\n",
      "Waveform 1 SNR: 7.192345780132867\n",
      "Waveform 2 SNR: 5.006380243680825\n",
      "Waveform 3 SNR: 6.128031714773328\n",
      "Waveform 4 SNR: 3.4471185002757503\n",
      "Waveform 5 SNR: 4.568458520622393\n",
      "Waveform 6 SNR: 5.476385349031534\n",
      "Waveform 7 SNR: 2.5879878802736367\n",
      "Waveform 8 SNR: 4.649149235301674\n",
      "Waveform 9 SNR: 7.711252008938313\n"
     ]
    }
   ],
   "source": [
    "# Assuming you already have all_waveforms as a list of 2D arrays\n",
    "# Initialize an empty list to collect waveforms with SNR >= 3\n",
    "no_noise_waveforms = []\n",
    "\n",
    "# Function to calculate SNR for a given 2D array\n",
    "def calculate_snr(waveforms):\n",
    "    W_bar = np.nanmean(waveforms, axis=0)\n",
    "    sig_amp = np.nanmax(W_bar) - np.nanmin(W_bar)\n",
    "    noise = waveforms - np.tile(W_bar, (waveforms.shape[0], 1))\n",
    "    snr = sig_amp / (2 * np.nanstd(noise.flatten()))\n",
    "    return snr\n",
    "\n",
    "# Determine the maximum number of timepoints across all waveforms\n",
    "max_timepoints = max(waveforms.shape[1] for waveforms in all_waveforms)\n",
    "\n",
    "# Pad arrays to the maximum number of timepoints with NaNs\n",
    "padded_waveforms = [np.pad(waveforms, ((0, 0), (0, max_timepoints - waveforms.shape[1])), mode='constant', constant_values=np.nan)\n",
    "                    for waveforms in all_waveforms]\n",
    "\n",
    "# Filter waveforms with SNR >= 3\n",
    "for waveforms in padded_waveforms:\n",
    "    snr = calculate_snr(waveforms)\n",
    "    if snr >= 3:\n",
    "        no_noise_waveforms.append(waveforms)\n",
    "\n",
    "# Combine the filtered waveforms into a single 2D Numpy array if any are found\n",
    "if no_noise_waveforms:\n",
    "    filtered_W = np.vstack(no_noise_waveforms)\n",
    "    print(f\"Filtered waveform shape: {filtered_W.shape}\")\n",
    "else:\n",
    "    print(\"No waveforms with SNR >= 3 were found.\")\n",
    "\n",
    "# For debugging and display purposes, you can also print the SNR values of all waveforms\n",
    "for i, waveforms in enumerate(padded_waveforms):\n",
    "    snr = calculate_snr(waveforms)\n",
    "    print(f\"Waveform {i} SNR: {snr}\")"
   ]
  },
  {
   "cell_type": "code",
   "execution_count": 26,
   "id": "2cddd2e9-c231-475d-97e8-780b06009aa8",
   "metadata": {
    "execution": {
     "iopub.execute_input": "2024-07-08T15:32:27.563727Z",
     "iopub.status.busy": "2024-07-08T15:32:27.563727Z",
     "iopub.status.idle": "2024-07-08T15:32:27.591273Z",
     "shell.execute_reply": "2024-07-08T15:32:27.589272Z",
     "shell.execute_reply.started": "2024-07-08T15:32:27.563727Z"
    },
    "tags": []
   },
   "outputs": [
    {
     "data": {
      "text/plain": [
       "9"
      ]
     },
     "execution_count": 26,
     "metadata": {},
     "output_type": "execute_result"
    }
   ],
   "source": [
    "len(no_noise_waveforms)"
   ]
  },
  {
   "cell_type": "code",
   "execution_count": 27,
   "id": "f789dd30-507c-44cd-8382-f5bf2b7e0197",
   "metadata": {
    "execution": {
     "iopub.execute_input": "2024-07-08T15:32:27.597286Z",
     "iopub.status.busy": "2024-07-08T15:32:27.596290Z",
     "iopub.status.idle": "2024-07-08T15:32:27.622272Z",
     "shell.execute_reply": "2024-07-08T15:32:27.620270Z",
     "shell.execute_reply.started": "2024-07-08T15:32:27.596290Z"
    },
    "tags": []
   },
   "outputs": [
    {
     "data": {
      "text/plain": [
       "10"
      ]
     },
     "execution_count": 27,
     "metadata": {},
     "output_type": "execute_result"
    }
   ],
   "source": [
    "len(all_waveforms)"
   ]
  },
  {
   "cell_type": "code",
   "execution_count": 29,
   "id": "852e5140-25ae-43f3-8137-248a3310eb4d",
   "metadata": {
    "execution": {
     "iopub.execute_input": "2024-07-08T15:43:33.700033Z",
     "iopub.status.busy": "2024-07-08T15:43:33.700033Z",
     "iopub.status.idle": "2024-07-08T15:43:33.738575Z",
     "shell.execute_reply": "2024-07-08T15:43:33.735568Z",
     "shell.execute_reply.started": "2024-07-08T15:43:33.700033Z"
    }
   },
   "outputs": [
    {
     "data": {
      "text/plain": [
       "{9: array([[ 0.40537423,  0.9204547 ,  1.3042495 , ...,  2.269646  ,\n",
       "          0.89965886,  0.1729701 ],\n",
       "        [ 1.4716856 , -0.18663864, -1.8644416 , ...,  1.7085094 ,\n",
       "          1.6655885 ,  1.0949929 ],\n",
       "        [ 1.2226917 ,  0.27370277,  0.15729961, ..., -0.11720731,\n",
       "          0.83251476,  1.9278888 ],\n",
       "        ...,\n",
       "        [-0.6192026 , -1.5477538 , -0.3860595 , ...,  2.0028834 ,\n",
       "          3.7053027 ,  0.17694335],\n",
       "        [-1.674623  , -0.97858775, -0.06450201, ...,  1.6264546 ,\n",
       "          0.7814573 ,  0.6139724 ],\n",
       "        [-0.1571035 , -0.70310694, -0.836848  , ...,  2.4313078 ,\n",
       "          1.1730937 ,  1.1040318 ]], dtype=float32),\n",
       " 13: array([[0.74050546, 1.1471487 , 1.1523566 , ..., 2.8801389 , 2.9853294 ,\n",
       "         3.0963612 ],\n",
       "        [0.33376965, 0.1129124 , 0.25598168, ..., 1.8844459 , 2.5375013 ,\n",
       "         3.7338994 ],\n",
       "        [3.7924511 , 3.189696  , 2.8261626 , ..., 5.365091  , 5.273031  ,\n",
       "         4.5386353 ],\n",
       "        ...,\n",
       "        [1.6787068 , 2.0034997 , 2.0164783 , ..., 2.540442  , 2.361846  ,\n",
       "         2.5961041 ],\n",
       "        [2.719232  , 3.0306926 , 2.3892043 , ..., 3.8319478 , 3.7461836 ,\n",
       "         3.3095787 ],\n",
       "        [1.6769528 , 2.0283432 , 2.747551  , ..., 2.2611334 , 2.9865813 ,\n",
       "         3.6893952 ]], dtype=float32),\n",
       " 18: array([[ 1.3493047 ,  0.619357  ,  0.16172056, ..., -1.1463724 ,\n",
       "          0.17650308,  1.0710458 ],\n",
       "        [-1.0457903 , -2.1319501 , -1.8750024 , ...,  2.1727092 ,\n",
       "          0.99982935, -0.33021143],\n",
       "        [ 0.32599217,  0.16503921,  0.27732855, ..., -0.32217443,\n",
       "          0.17236593, -0.05150402],\n",
       "        ...,\n",
       "        [-0.8854631 ,  0.32515067,  0.34736264, ...,  0.65139574,\n",
       "          0.61848736, -0.7566372 ],\n",
       "        [ 1.4612421 ,  1.3895288 ,  0.8098548 , ..., -0.02361186,\n",
       "         -0.3044081 ,  0.2052774 ],\n",
       "        [ 0.39748198,  0.8318121 ,  1.0252188 , ..., -0.1988105 ,\n",
       "         -0.12839423, -0.97113127]], dtype=float32),\n",
       " 20: array([[1.3671987 , 2.082383  , 2.279984  , ..., 2.01403   , 2.8565178 ,\n",
       "         2.8321984 ],\n",
       "        [2.1851344 , 0.8611344 , 0.48307177, ..., 3.4429138 , 3.8160903 ,\n",
       "         3.5087311 ],\n",
       "        [0.7703249 , 1.3822025 , 1.4295958 , ..., 2.7536454 , 2.4123378 ,\n",
       "         2.142502  ],\n",
       "        ...,\n",
       "        [2.0823917 , 1.5850147 , 1.1422516 , ..., 3.053158  , 3.027018  ,\n",
       "         2.632094  ],\n",
       "        [1.1033891 , 1.3484769 , 0.5643724 , ..., 1.630746  , 0.35185224,\n",
       "         0.3892937 ],\n",
       "        [0.9196808 , 1.0014821 , 1.6788155 , ..., 3.6782575 , 3.4006321 ,\n",
       "         3.0454261 ]], dtype=float32),\n",
       " 115: array([[-1.4444315 , -1.8545597 , -0.09212058, ..., -1.3405765 ,\n",
       "         -0.06248673,  0.40132537],\n",
       "        [ 1.0003941 , -0.36613247, -1.5997725 , ...,  0.83614635,\n",
       "         -0.4864529 , -0.65551907],\n",
       "        [ 1.4110906 ,  1.1981518 ,  0.294652  , ...,  1.8336692 ,\n",
       "          1.5985953 ,  0.31652   ],\n",
       "        ...,\n",
       "        [ 0.39812076, -0.14235383, -0.03398512, ...,  1.1683561 ,\n",
       "          1.7905493 ,  1.64884   ],\n",
       "        [ 0.6166638 ,  0.4911649 ,  0.03128317, ..., -0.5051777 ,\n",
       "         -0.07413642,  0.20972052],\n",
       "        [-2.9822803 , -2.7491775 , -1.5092561 , ...,  0.31147656,\n",
       "          0.85704243,  1.6544567 ]], dtype=float32),\n",
       " 117: array([[ 3.0652988e-03,  7.6683294e-03,  2.0962958e-01, ...,\n",
       "          3.4154861e+00,  2.4242194e+00,  2.3850234e+00],\n",
       "        [ 8.5359031e-01,  7.1648288e-01,  1.0315886e+00, ...,\n",
       "          1.2333052e+00,  1.5011677e+00,  7.0454276e-01],\n",
       "        [-7.1695483e-01, -4.2525470e-01, -8.0104136e-01, ...,\n",
       "          1.6927334e+00,  2.1589284e+00,  2.2851896e+00],\n",
       "        ...,\n",
       "        [-1.9302584e+00, -7.6183051e-01,  1.4385498e+00, ...,\n",
       "          2.2544894e+00,  1.2180524e+00,  7.4693960e-01],\n",
       "        [ 3.5493067e-01,  5.8153677e-01,  6.3269429e-02, ...,\n",
       "          2.1838758e+00,  2.3007801e+00,  1.8068649e+00],\n",
       "        [ 1.4697404e+00,  9.6029615e-01,  2.2761877e+00, ...,\n",
       "          1.1059222e+00, -2.0028825e-01, -1.4888754e+00]], dtype=float32),\n",
       " 123: array([[ 1.0744777 ,  0.7188    ,  0.64389545, ...,  2.5328283 ,\n",
       "          3.8838315 ,  3.5077317 ],\n",
       "        [ 1.1351234 ,  1.3261033 ,  0.86495453, ...,  2.5826457 ,\n",
       "          0.31013638, -1.2630208 ],\n",
       "        [ 1.1446444 ,  0.91434515, -0.25099754, ...,  2.8546808 ,\n",
       "          2.0314016 ,  1.3037884 ],\n",
       "        ...,\n",
       "        [-0.28052908,  0.5328332 ,  1.3396878 , ...,  3.1357238 ,\n",
       "          3.9290297 ,  2.8191457 ],\n",
       "        [-0.748173  ,  0.00748   ,  1.3200591 , ...,  0.5118059 ,\n",
       "          0.3104491 ,  1.413636  ],\n",
       "        [ 0.9893955 ,  0.7199041 ,  0.1816968 , ...,  2.0997176 ,\n",
       "          1.7835532 ,  0.7913588 ]], dtype=float32),\n",
       " 150: array([[-0.02409553,  0.6165436 , -0.15685084, ...,  1.3945104 ,\n",
       "          1.4983191 ,  0.4345853 ],\n",
       "        [ 1.0869029 ,  0.2129372 , -0.3564966 , ...,  1.4394896 ,\n",
       "          1.5674856 ,  0.8589264 ],\n",
       "        [ 1.728833  ,  1.2641896 ,  0.5277945 , ...,  0.49169838,\n",
       "          0.740534  ,  0.7883151 ],\n",
       "        ...,\n",
       "        [ 0.938286  ,  0.49765232,  0.82971376, ..., -0.39872736,\n",
       "          1.0802045 ,  1.7850709 ],\n",
       "        [-0.50625694,  0.92818046,  1.5258281 , ...,  0.72846854,\n",
       "          0.834615  ,  0.9635159 ],\n",
       "        [ 2.125998  ,  1.7642605 ,  1.0133661 , ...,  1.7451942 ,\n",
       "          2.5066729 ,  1.793781  ]], dtype=float32),\n",
       " 154: array([[-0.21620075, -1.0463643 , -1.0222704 , ...,  0.7587049 ,\n",
       "          1.358793  ,  0.92648894],\n",
       "        [-1.694932  , -0.6632204 ,  0.57062674, ...,  1.8329808 ,\n",
       "          1.5224836 ,  1.4949642 ],\n",
       "        [ 0.19663939,  0.4132909 ,  0.5936487 , ...,  0.21853998,\n",
       "          0.30196667,  0.73331684],\n",
       "        ...,\n",
       "        [ 0.51378196,  0.05862967, -0.31413653, ...,  0.6675739 ,\n",
       "          0.91107064,  1.9022685 ],\n",
       "        [ 1.6243165 ,  1.0635947 ,  0.22128713, ...,  1.9547985 ,\n",
       "          1.0765884 ,  0.6828854 ],\n",
       "        [-1.0986818 ,  0.36730167,  0.8164876 , ...,  0.89536124,\n",
       "          0.05552766,  0.19552782]], dtype=float32),\n",
       " 190: array([[-0.3583337 , -1.0804446 , -0.22278394, ...,  3.1371636 ,\n",
       "          3.3423917 ,  2.3632755 ],\n",
       "        [ 1.2022593 ,  1.7476974 ,  1.4472492 , ...,  2.7672553 ,\n",
       "          0.4109821 , -0.5041535 ],\n",
       "        [ 2.1082544 ,  2.5640907 ,  2.5658457 , ...,  4.6903186 ,\n",
       "          2.2674372 ,  1.9845983 ],\n",
       "        ...,\n",
       "        [-1.0335972 , -0.75413287,  0.30246025, ...,  2.0324275 ,\n",
       "          1.1653258 ,  0.5028006 ],\n",
       "        [ 0.42619714,  0.4164606 ,  0.72125775, ...,  3.2502782 ,\n",
       "          1.9266436 ,  0.9587769 ],\n",
       "        [ 0.19314732,  1.0925943 ,  1.9621822 , ...,  2.273356  ,\n",
       "          1.926786  ,  1.2775131 ]], dtype=float32)}"
      ]
     },
     "execution_count": 29,
     "metadata": {},
     "output_type": "execute_result"
    }
   ],
   "source": [
    "cluster_waveforms"
   ]
  },
  {
   "cell_type": "code",
   "execution_count": 30,
   "id": "340088d8-689a-48c7-b580-3b5d4df02a72",
   "metadata": {
    "execution": {
     "iopub.execute_input": "2024-07-08T15:43:44.097320Z",
     "iopub.status.busy": "2024-07-08T15:43:44.096329Z",
     "iopub.status.idle": "2024-07-08T15:43:44.119325Z",
     "shell.execute_reply": "2024-07-08T15:43:44.117330Z",
     "shell.execute_reply.started": "2024-07-08T15:43:44.097320Z"
    }
   },
   "outputs": [
    {
     "data": {
      "text/plain": [
       "array([[ 0.40537423,  0.9204547 ,  1.3042495 , ...,  2.269646  ,\n",
       "         0.89965886,  0.1729701 ],\n",
       "       [ 1.4716856 , -0.18663864, -1.8644416 , ...,  1.7085094 ,\n",
       "         1.6655885 ,  1.0949929 ],\n",
       "       [ 1.2226917 ,  0.27370277,  0.15729961, ..., -0.11720731,\n",
       "         0.83251476,  1.9278888 ],\n",
       "       ...,\n",
       "       [-0.6192026 , -1.5477538 , -0.3860595 , ...,  2.0028834 ,\n",
       "         3.7053027 ,  0.17694335],\n",
       "       [-1.674623  , -0.97858775, -0.06450201, ...,  1.6264546 ,\n",
       "         0.7814573 ,  0.6139724 ],\n",
       "       [-0.1571035 , -0.70310694, -0.836848  , ...,  2.4313078 ,\n",
       "         1.1730937 ,  1.1040318 ]], dtype=float32)"
      ]
     },
     "execution_count": 30,
     "metadata": {},
     "output_type": "execute_result"
    }
   ],
   "source": [
    "cluster_waveforms[9]"
   ]
  },
  {
   "cell_type": "code",
   "execution_count": 33,
   "id": "780772aa-2c19-4f0e-a5ed-c439b407b6d0",
   "metadata": {
    "execution": {
     "iopub.execute_input": "2024-07-08T15:44:32.983499Z",
     "iopub.status.busy": "2024-07-08T15:44:32.983499Z",
     "iopub.status.idle": "2024-07-08T15:44:33.015153Z",
     "shell.execute_reply": "2024-07-08T15:44:33.015153Z",
     "shell.execute_reply.started": "2024-07-08T15:44:32.983499Z"
    }
   },
   "outputs": [
    {
     "data": {
      "text/plain": [
       "10"
      ]
     },
     "execution_count": 33,
     "metadata": {},
     "output_type": "execute_result"
    }
   ],
   "source": [
    "len(cluster_waveforms)"
   ]
  },
  {
   "cell_type": "code",
   "execution_count": 35,
   "id": "9112b7bc-45ae-445b-9021-f666c4058409",
   "metadata": {
    "execution": {
     "iopub.execute_input": "2024-07-08T15:44:53.228645Z",
     "iopub.status.busy": "2024-07-08T15:44:53.228645Z",
     "iopub.status.idle": "2024-07-08T15:44:53.259913Z",
     "shell.execute_reply": "2024-07-08T15:44:53.259913Z",
     "shell.execute_reply.started": "2024-07-08T15:44:53.228645Z"
    }
   },
   "outputs": [
    {
     "data": {
      "text/plain": [
       "13768"
      ]
     },
     "execution_count": 35,
     "metadata": {},
     "output_type": "execute_result"
    }
   ],
   "source": [
    "len(cluster_waveforms[9])"
   ]
  },
  {
   "cell_type": "code",
   "execution_count": 32,
   "id": "4ea67523-e312-4f5d-aeb4-79ed7e10215e",
   "metadata": {
    "execution": {
     "iopub.execute_input": "2024-07-08T15:44:01.394035Z",
     "iopub.status.busy": "2024-07-08T15:44:01.392036Z",
     "iopub.status.idle": "2024-07-08T15:44:01.414036Z",
     "shell.execute_reply": "2024-07-08T15:44:01.412035Z",
     "shell.execute_reply.started": "2024-07-08T15:44:01.393037Z"
    }
   },
   "outputs": [
    {
     "data": {
      "text/plain": [
       "40"
      ]
     },
     "execution_count": 32,
     "metadata": {},
     "output_type": "execute_result"
    }
   ],
   "source": [
    "len(cluster_waveforms[9][0])"
   ]
  },
  {
   "cell_type": "code",
   "execution_count": 45,
   "id": "a2a5dcc9-b73e-43a0-ab18-129a12ece2d3",
   "metadata": {
    "execution": {
     "iopub.execute_input": "2024-07-08T16:59:00.820808Z",
     "iopub.status.busy": "2024-07-08T16:59:00.819806Z",
     "iopub.status.idle": "2024-07-08T16:59:01.415151Z",
     "shell.execute_reply": "2024-07-08T16:59:01.413151Z",
     "shell.execute_reply.started": "2024-07-08T16:59:00.820808Z"
    }
   },
   "outputs": [
    {
     "name": "stdout",
     "output_type": "stream",
     "text": [
      "Number of excluded units due to low SNR: 1\n"
     ]
    }
   ],
   "source": [
    "def calculate_snr(waveforms):\n",
    "    # Calculate the mean waveform across all spikes in a single cluster, ignoring NaNs\n",
    "    W_bar = np.nanmean(waveforms, axis=0)\n",
    "    # Calculate the signal amplitude (max - min of the mean waveform), ignoring NaNs\n",
    "    sig_amp = np.nanmax(W_bar) - np.nanmin(W_bar)\n",
    "    # Subtract the mean waveform from each spike to get the noise\n",
    "    noise = waveforms - np.tile(W_bar, (waveforms.shape[0], 1))\n",
    "    # Calculate the signal-to-noise ratio, ignoring NaNs\n",
    "    snr = sig_amp / (2 * np.nanstd(noise.flatten()))\n",
    "    return snr\n",
    "\n",
    "# Initialize a dictionary to hold the SNR values for each cluster\n",
    "snr_dict = {}\n",
    "\n",
    "# Iterate through each unit/spike_cluster in the cluster_waveforms dictionary\n",
    "for unit, spikes in cluster_waveforms.items():\n",
    "    if spikes.ndim == 2:\n",
    "        # Calculate SNR for each cluster's waveforms\n",
    "        snr = calculate_snr(spikes)\n",
    "        # Store the SNR value in the dictionary with its corresponding unit\n",
    "        snr_dict[unit] = snr\n",
    "    else:\n",
    "        print(f\"Skipping unit {unit} due to unexpected shape: {spikes.shape}\")\n",
    "\n",
    "# Filter and retain only waveforms with SNR >= 3\n",
    "high_snr_waveforms = {unit: spikes for unit, spikes in cluster_waveforms.items() if snr_dict[unit] >= 3}\n",
    "\n",
    "# Determine the number of units excluded due to low SNR\n",
    "excluded_units = len(snr_dict) - len(high_snr_waveforms)\n",
    "\n",
    "# Print the result\n",
    "print(f\"Number of excluded units due to low SNR: {excluded_units}\")"
   ]
  },
  {
   "cell_type": "code",
   "execution_count": 49,
   "id": "d1b619f3-06ea-43b5-9f23-ccd0b8ed24af",
   "metadata": {
    "execution": {
     "iopub.execute_input": "2024-07-08T16:59:59.573707Z",
     "iopub.status.busy": "2024-07-08T16:59:59.573707Z",
     "iopub.status.idle": "2024-07-08T16:59:59.589324Z",
     "shell.execute_reply": "2024-07-08T16:59:59.589324Z",
     "shell.execute_reply.started": "2024-07-08T16:59:59.573707Z"
    }
   },
   "outputs": [
    {
     "data": {
      "text/plain": [
       "array([  0.40537423,   0.9204547 ,   1.3042495 ,   0.66315186,\n",
       "        -0.83373624,  -1.3520111 ,  -0.45797062,  -0.0220464 ,\n",
       "        -0.36910826,   0.3050875 ,   1.4935703 ,   0.8006043 ,\n",
       "        -0.44051605,   1.1329583 ,   4.469434  ,   7.3652925 ,\n",
       "        10.524259  ,  10.669554  ,   2.2784607 ,  -9.069311  ,\n",
       "       -12.297354  ,  -8.102026  ,  -4.433738  ,  -3.3412938 ,\n",
       "        -3.1506605 ,  -3.1593354 ,  -2.5206325 ,  -1.4534206 ,\n",
       "        -1.2984093 ,  -1.4807814 ,  -0.7342157 ,   0.31443456,\n",
       "         0.7896247 ,   0.92220134,   1.1487566 ,   1.8166375 ,\n",
       "         2.5917692 ,   2.269646  ,   0.89965886,   0.1729701 ],\n",
       "      dtype=float32)"
      ]
     },
     "execution_count": 49,
     "metadata": {},
     "output_type": "execute_result"
    }
   ],
   "source": [
    "high_snr_waveforms[9][0]"
   ]
  },
  {
   "cell_type": "code",
   "execution_count": 50,
   "id": "d2ca7b9d-986b-4579-b8d9-87bd578eb884",
   "metadata": {
    "execution": {
     "iopub.execute_input": "2024-07-08T17:01:50.920876Z",
     "iopub.status.busy": "2024-07-08T17:01:50.919882Z",
     "iopub.status.idle": "2024-07-08T17:01:50.943439Z",
     "shell.execute_reply": "2024-07-08T17:01:50.942444Z",
     "shell.execute_reply.started": "2024-07-08T17:01:50.920876Z"
    }
   },
   "outputs": [
    {
     "data": {
      "text/plain": [
       "<phylib.io.model.TemplateModel at 0x1d29372adc0>"
      ]
     },
     "execution_count": 50,
     "metadata": {},
     "output_type": "execute_result"
    }
   ],
   "source": [
    "model"
   ]
  },
  {
   "cell_type": "code",
   "execution_count": 51,
   "id": "d8d4be6f-529d-4df2-8e33-41fc06e1f869",
   "metadata": {
    "execution": {
     "iopub.execute_input": "2024-07-08T17:01:58.753713Z",
     "iopub.status.busy": "2024-07-08T17:01:58.752717Z",
     "iopub.status.idle": "2024-07-08T17:01:58.773713Z",
     "shell.execute_reply": "2024-07-08T17:01:58.770709Z",
     "shell.execute_reply.started": "2024-07-08T17:01:58.753713Z"
    }
   },
   "outputs": [
    {
     "data": {
      "text/plain": [
       "phylib.io.model.TemplateModel"
      ]
     },
     "execution_count": 51,
     "metadata": {},
     "output_type": "execute_result"
    }
   ],
   "source": [
    "type(model)"
   ]
  },
  {
   "cell_type": "code",
   "execution_count": 52,
   "id": "e1ac633b-5b75-4469-a4f9-7438432ea1a4",
   "metadata": {
    "execution": {
     "iopub.execute_input": "2024-07-08T17:03:59.969043Z",
     "iopub.status.busy": "2024-07-08T17:03:59.968026Z",
     "iopub.status.idle": "2024-07-08T17:04:00.000258Z",
     "shell.execute_reply": "2024-07-08T17:03:59.998808Z",
     "shell.execute_reply.started": "2024-07-08T17:03:59.969043Z"
    }
   },
   "outputs": [
    {
     "name": "stdout",
     "output_type": "stream",
     "text": [
      "['__class__', '__delattr__', '__dict__', '__dir__', '__doc__', '__eq__', '__format__', '__ge__', '__getattribute__', '__gt__', '__hash__', '__init__', '__init_subclass__', '__le__', '__lt__', '__module__', '__ne__', '__new__', '__reduce__', '__reduce_ex__', '__repr__', '__setattr__', '__sizeof__', '__str__', '__subclasshook__', '__weakref__', '_amplitudes', '_channels', '_compute_wmi', '_find_best_channels', '_find_path', '_get_template_dense', '_get_template_from_spikes', '_get_template_sparse', '_load_amplitudes', '_load_channel_map', '_load_channel_positions', '_load_channel_probes', '_load_channel_shanks', '_load_data', '_load_features', '_load_metadata', '_load_similar_templates', '_load_spike_attributes', '_load_spike_clusters', '_load_spike_reorder', '_load_spike_samples', '_load_spike_templates', '_load_spike_waveforms', '_load_template_features', '_load_templates', '_load_traces', '_load_wm', '_load_wmi', '_read_array', '_template_n_channels', '_unwhiten', '_waveform_durations', '_write_array', 'amplitude_threshold', 'amplitudes', 'channel_mapping', 'channel_positions', 'channel_probes', 'channel_shanks', 'close', 'cluster_ids', 'cluster_waveforms', 'clusters_amplitudes', 'clusters_channels', 'clusters_waveforms_durations', 'dat_path', 'describe', 'dir_path', 'dtype', 'duration', 'features', 'get_amplitudes_true', 'get_cluster_channels', 'get_cluster_mean_waveforms', 'get_cluster_spike_waveforms', 'get_cluster_spikes', 'get_depths', 'get_features', 'get_merge_map', 'get_template', 'get_template_channels', 'get_template_counts', 'get_template_features', 'get_template_spike_waveforms', 'get_template_spikes', 'get_template_waveforms', 'get_waveforms', 'hp_filtered', 'merge_map', 'metadata', 'n_channels', 'n_channels_dat', 'n_channels_loc', 'n_closest_channels', 'n_clusters', 'n_features_per_channel', 'n_probes', 'n_samples_waveforms', 'n_spikes', 'n_templates', 'nan_idx', 'offset', 'probes', 'sample_rate', 'save_metadata', 'save_spike_clusters', 'save_spikes_subset_waveforms', 'similar_templates', 'sparse_clusters', 'sparse_features', 'sparse_template_features', 'sparse_templates', 'spike_attributes', 'spike_clusters', 'spike_samples', 'spike_templates', 'spike_times', 'spike_times_reordered', 'spike_waveforms', 'template_features', 'template_ids', 'templates_amplitudes', 'templates_channels', 'templates_probes', 'templates_waveforms_durations', 'traces', 'wm', 'wmi']\n"
     ]
    }
   ],
   "source": [
    "print(dir(model))"
   ]
  },
  {
   "cell_type": "code",
   "execution_count": 53,
   "id": "5005236b-6e71-4beb-9da4-b4cebfb3fd92",
   "metadata": {
    "execution": {
     "iopub.execute_input": "2024-07-08T17:04:21.558474Z",
     "iopub.status.busy": "2024-07-08T17:04:21.558474Z",
     "iopub.status.idle": "2024-07-08T17:04:21.605767Z",
     "shell.execute_reply": "2024-07-08T17:04:21.605767Z",
     "shell.execute_reply.started": "2024-07-08T17:04:21.558474Z"
    }
   },
   "outputs": [
    {
     "data": {
      "text/plain": [
       "array([1.9500000e-03, 3.1000000e-03, 7.3500000e-03, ..., 3.1796972e+03,\n",
       "       3.1797020e+03, 3.1797067e+03])"
      ]
     },
     "execution_count": 53,
     "metadata": {},
     "output_type": "execute_result"
    }
   ],
   "source": [
    "model.spike_times"
   ]
  },
  {
   "cell_type": "code",
   "execution_count": 54,
   "id": "719aca4c-bf49-4040-a128-aee54d8bbd67",
   "metadata": {
    "execution": {
     "iopub.execute_input": "2024-07-08T17:04:30.668577Z",
     "iopub.status.busy": "2024-07-08T17:04:30.667583Z",
     "iopub.status.idle": "2024-07-08T17:04:30.690107Z",
     "shell.execute_reply": "2024-07-08T17:04:30.687586Z",
     "shell.execute_reply.started": "2024-07-08T17:04:30.668577Z"
    }
   },
   "outputs": [
    {
     "data": {
      "text/plain": [
       "719400"
      ]
     },
     "execution_count": 54,
     "metadata": {},
     "output_type": "execute_result"
    }
   ],
   "source": [
    "len(model.spike_times)"
   ]
  },
  {
   "cell_type": "code",
   "execution_count": 55,
   "id": "e71e32a2-ebf8-4d06-bcf0-fd7091052818",
   "metadata": {
    "execution": {
     "iopub.execute_input": "2024-07-08T17:04:44.679713Z",
     "iopub.status.busy": "2024-07-08T17:04:44.679713Z",
     "iopub.status.idle": "2024-07-08T17:04:44.711377Z",
     "shell.execute_reply": "2024-07-08T17:04:44.711377Z",
     "shell.execute_reply.started": "2024-07-08T17:04:44.679713Z"
    }
   },
   "outputs": [
    {
     "data": {
      "text/plain": [
       "719400"
      ]
     },
     "execution_count": 55,
     "metadata": {},
     "output_type": "execute_result"
    }
   ],
   "source": [
    "len(model.spike_clusters)"
   ]
  },
  {
   "cell_type": "code",
   "execution_count": 56,
   "id": "67ecf68c-e72d-4e0e-a0d0-356206ae6273",
   "metadata": {
    "execution": {
     "iopub.execute_input": "2024-07-08T17:04:50.885162Z",
     "iopub.status.busy": "2024-07-08T17:04:50.884159Z",
     "iopub.status.idle": "2024-07-08T17:04:50.910708Z",
     "shell.execute_reply": "2024-07-08T17:04:50.908710Z",
     "shell.execute_reply.started": "2024-07-08T17:04:50.885162Z"
    }
   },
   "outputs": [
    {
     "data": {
      "text/plain": [
       "array([18,  9,  7, ...,  8,  8,  3])"
      ]
     },
     "execution_count": 56,
     "metadata": {},
     "output_type": "execute_result"
    }
   ],
   "source": [
    "model.spike_clusters"
   ]
  },
  {
   "cell_type": "code",
   "execution_count": 57,
   "id": "f4a06866-13ce-4aa9-a68f-66f76021a51f",
   "metadata": {
    "execution": {
     "iopub.execute_input": "2024-07-08T17:05:17.712498Z",
     "iopub.status.busy": "2024-07-08T17:05:17.711498Z",
     "iopub.status.idle": "2024-07-08T17:05:17.740046Z",
     "shell.execute_reply": "2024-07-08T17:05:17.738050Z",
     "shell.execute_reply.started": "2024-07-08T17:05:17.712498Z"
    }
   },
   "outputs": [
    {
     "data": {
      "text/plain": [
       "0.00195"
      ]
     },
     "execution_count": 57,
     "metadata": {},
     "output_type": "execute_result"
    }
   ],
   "source": [
    "model.spike_times[0]"
   ]
  },
  {
   "cell_type": "code",
   "execution_count": 58,
   "id": "6762412e-10d3-4b6d-b5e2-5ad94b65cf06",
   "metadata": {
    "execution": {
     "iopub.execute_input": "2024-07-08T17:05:31.056287Z",
     "iopub.status.busy": "2024-07-08T17:05:31.056287Z",
     "iopub.status.idle": "2024-07-08T17:05:31.087556Z",
     "shell.execute_reply": "2024-07-08T17:05:31.087556Z",
     "shell.execute_reply.started": "2024-07-08T17:05:31.056287Z"
    }
   },
   "outputs": [
    {
     "data": {
      "text/plain": [
       "0.0031"
      ]
     },
     "execution_count": 58,
     "metadata": {},
     "output_type": "execute_result"
    }
   ],
   "source": [
    "model.spike_times[1]"
   ]
  },
  {
   "cell_type": "code",
   "execution_count": 59,
   "id": "194cdae7-7ea7-4db3-9ac5-568763f5169e",
   "metadata": {
    "execution": {
     "iopub.execute_input": "2024-07-08T17:07:02.894224Z",
     "iopub.status.busy": "2024-07-08T17:07:02.894224Z",
     "iopub.status.idle": "2024-07-08T17:07:02.950787Z",
     "shell.execute_reply": "2024-07-08T17:07:02.948790Z",
     "shell.execute_reply.started": "2024-07-08T17:07:02.894224Z"
    }
   },
   "outputs": [],
   "source": [
    "spike_times = np.load(r'.\\test1\\20240320_142408_alone_comp_subj_3-1_t6b6_merged.rec\\phy\\spike_times.npy')"
   ]
  },
  {
   "cell_type": "code",
   "execution_count": 60,
   "id": "2009a7be-5683-478f-afe5-ffaa2dc946b0",
   "metadata": {
    "execution": {
     "iopub.execute_input": "2024-07-08T17:07:09.317167Z",
     "iopub.status.busy": "2024-07-08T17:07:09.316165Z",
     "iopub.status.idle": "2024-07-08T17:07:09.341177Z",
     "shell.execute_reply": "2024-07-08T17:07:09.339182Z",
     "shell.execute_reply.started": "2024-07-08T17:07:09.317167Z"
    }
   },
   "outputs": [
    {
     "data": {
      "text/plain": [
       "array([39], dtype=int64)"
      ]
     },
     "execution_count": 60,
     "metadata": {},
     "output_type": "execute_result"
    }
   ],
   "source": [
    "spike_times[0]"
   ]
  },
  {
   "cell_type": "code",
   "execution_count": 61,
   "id": "d8ec8dac-41ca-4d64-885b-d60d895e3ef3",
   "metadata": {
    "execution": {
     "iopub.execute_input": "2024-07-08T17:07:18.107379Z",
     "iopub.status.busy": "2024-07-08T17:07:18.107379Z",
     "iopub.status.idle": "2024-07-08T17:07:18.140357Z",
     "shell.execute_reply": "2024-07-08T17:07:18.138356Z",
     "shell.execute_reply.started": "2024-07-08T17:07:18.107379Z"
    }
   },
   "outputs": [
    {
     "data": {
      "text/plain": [
       "array([62], dtype=int64)"
      ]
     },
     "execution_count": 61,
     "metadata": {},
     "output_type": "execute_result"
    }
   ],
   "source": [
    "spike_times[1]"
   ]
  },
  {
   "cell_type": "code",
   "execution_count": 63,
   "id": "029b4963-16df-4089-a103-90b29549fe1b",
   "metadata": {
    "execution": {
     "iopub.execute_input": "2024-07-08T17:20:12.788132Z",
     "iopub.status.busy": "2024-07-08T17:20:12.788132Z",
     "iopub.status.idle": "2024-07-08T17:20:12.824666Z",
     "shell.execute_reply": "2024-07-08T17:20:12.821655Z",
     "shell.execute_reply.started": "2024-07-08T17:20:12.788132Z"
    }
   },
   "outputs": [
    {
     "data": {
      "text/plain": [
       "array([ -8.934715 , -12.297354 ,  -6.8265376, ...,  -6.7597466,\n",
       "        -6.7344522,  -7.820067 ], dtype=float32)"
      ]
     },
     "execution_count": 63,
     "metadata": {},
     "output_type": "execute_result"
    }
   ],
   "source": [
    "model.amplitudes"
   ]
  },
  {
   "cell_type": "code",
   "execution_count": 64,
   "id": "1493154b-e4b3-4a5d-aaec-78659560b03a",
   "metadata": {
    "execution": {
     "iopub.execute_input": "2024-07-08T17:20:22.076220Z",
     "iopub.status.busy": "2024-07-08T17:20:22.060597Z",
     "iopub.status.idle": "2024-07-08T17:20:22.091843Z",
     "shell.execute_reply": "2024-07-08T17:20:22.091843Z",
     "shell.execute_reply.started": "2024-07-08T17:20:22.076220Z"
    }
   },
   "outputs": [
    {
     "data": {
      "text/plain": [
       "719400"
      ]
     },
     "execution_count": 64,
     "metadata": {},
     "output_type": "execute_result"
    }
   ],
   "source": [
    "len(model.amplitudes)"
   ]
  },
  {
   "cell_type": "code",
   "execution_count": 70,
   "id": "98955021-87d0-464f-93e1-33be72913db3",
   "metadata": {
    "execution": {
     "iopub.execute_input": "2024-07-08T17:21:19.746891Z",
     "iopub.status.busy": "2024-07-08T17:21:19.746891Z",
     "iopub.status.idle": "2024-07-08T17:21:19.778556Z",
     "shell.execute_reply": "2024-07-08T17:21:19.778556Z",
     "shell.execute_reply.started": "2024-07-08T17:21:19.746891Z"
    }
   },
   "outputs": [
    {
     "data": {
      "text/plain": [
       "array([  1,   2,   3,   4,   7,   8,   9,  12,  13,  18,  19,  20,  21,\n",
       "        93, 104, 115, 117, 123, 127, 143, 144, 147, 148, 149, 150, 154,\n",
       "       171, 189, 190, 193, 194, 195])"
      ]
     },
     "execution_count": 70,
     "metadata": {},
     "output_type": "execute_result"
    }
   ],
   "source": [
    "model.cluster_ids"
   ]
  },
  {
   "cell_type": "code",
   "execution_count": 75,
   "id": "89b61400-615e-4cb7-993d-539ca45c214c",
   "metadata": {
    "execution": {
     "iopub.execute_input": "2024-07-08T17:45:14.994296Z",
     "iopub.status.busy": "2024-07-08T17:45:14.978663Z",
     "iopub.status.idle": "2024-07-08T17:45:15.213973Z",
     "shell.execute_reply": "2024-07-08T17:45:15.213973Z",
     "shell.execute_reply.started": "2024-07-08T17:45:14.994296Z"
    }
   },
   "outputs": [
    {
     "data": {
      "text/plain": [
       "array([16, 18,  6, 17, 11,  7,  9, 25, 14, 29,  8, 15, 21, 22, 26, 20, 12,\n",
       "       23, 27,  3, 24, 30, 13, 19,  2, 31,  4,  1,  0, 28, 10,  5],\n",
       "      dtype=uint32)"
      ]
     },
     "execution_count": 75,
     "metadata": {},
     "output_type": "execute_result"
    }
   ],
   "source": [
    "model.get_cluster_channels(9)"
   ]
  },
  {
   "cell_type": "code",
   "execution_count": 76,
   "id": "810fed20-14dd-4b06-819a-ba809c03fedd",
   "metadata": {
    "execution": {
     "iopub.execute_input": "2024-07-08T17:49:37.928962Z",
     "iopub.status.busy": "2024-07-08T17:49:37.925961Z",
     "iopub.status.idle": "2024-07-08T17:49:37.977962Z",
     "shell.execute_reply": "2024-07-08T17:49:37.974961Z",
     "shell.execute_reply.started": "2024-07-08T17:49:37.928962Z"
    }
   },
   "outputs": [
    {
     "data": {
      "text/plain": [
       "array([ 6, 18, 16, 17, 11,  7,  9, 14, 13, 25, 22,  8, 26, 15,  2, 29, 12,\n",
       "       30, 20, 23, 24, 27, 21,  3, 19, 28,  0, 31,  4,  5,  1, 10],\n",
       "      dtype=uint32)"
      ]
     },
     "execution_count": 76,
     "metadata": {},
     "output_type": "execute_result"
    }
   ],
   "source": [
    "model.get_cluster_channels(190)"
   ]
  },
  {
   "cell_type": "code",
   "execution_count": 79,
   "id": "26b2894d-62c2-4451-8d9c-657b8d9e37ca",
   "metadata": {
    "execution": {
     "iopub.execute_input": "2024-07-08T17:57:37.135006Z",
     "iopub.status.busy": "2024-07-08T17:57:37.135006Z",
     "iopub.status.idle": "2024-07-08T17:57:37.166250Z",
     "shell.execute_reply": "2024-07-08T17:57:37.166250Z",
     "shell.execute_reply.started": "2024-07-08T17:57:37.135006Z"
    }
   },
   "outputs": [
    {
     "data": {
      "text/plain": [
       "array([ 0.6 ,  0.7 ,  0.15,  0.7 , -0.15,  0.6 , -0.15,  0.65,  0.2 ,\n",
       "       -0.15,  0.6 , -0.15,  0.75,  0.7 , -0.15,  0.7 , -0.15,  0.7 ,\n",
       "        0.25,  0.8 ,  0.8 , -0.15])"
      ]
     },
     "execution_count": 79,
     "metadata": {},
     "output_type": "execute_result"
    }
   ],
   "source": [
    "model.clusters_waveforms_durations"
   ]
  },
  {
   "cell_type": "code",
   "execution_count": 83,
   "id": "c166e919-506e-4221-bdae-29c4cefc4870",
   "metadata": {
    "execution": {
     "iopub.execute_input": "2024-07-08T18:04:43.195264Z",
     "iopub.status.busy": "2024-07-08T18:04:43.193271Z",
     "iopub.status.idle": "2024-07-08T18:04:43.229260Z",
     "shell.execute_reply": "2024-07-08T18:04:43.227259Z",
     "shell.execute_reply.started": "2024-07-08T18:04:43.194266Z"
    }
   },
   "outputs": [
    {
     "data": {
      "text/plain": [
       "array([[1., 0., 0., ..., 0., 0., 0.],\n",
       "       [0., 1., 0., ..., 0., 0., 0.],\n",
       "       [0., 0., 1., ..., 0., 0., 0.],\n",
       "       ...,\n",
       "       [0., 0., 0., ..., 1., 0., 0.],\n",
       "       [0., 0., 0., ..., 0., 1., 0.],\n",
       "       [0., 0., 0., ..., 0., 0., 1.]])"
      ]
     },
     "execution_count": 83,
     "metadata": {},
     "output_type": "execute_result"
    }
   ],
   "source": [
    "model.wm"
   ]
  },
  {
   "cell_type": "code",
   "execution_count": 84,
   "id": "127ae337-f401-41ed-bbf1-ff43c572eb06",
   "metadata": {
    "execution": {
     "iopub.execute_input": "2024-07-08T18:04:51.653182Z",
     "iopub.status.busy": "2024-07-08T18:04:51.653182Z",
     "iopub.status.idle": "2024-07-08T18:04:51.684435Z",
     "shell.execute_reply": "2024-07-08T18:04:51.684435Z",
     "shell.execute_reply.started": "2024-07-08T18:04:51.653182Z"
    }
   },
   "outputs": [
    {
     "data": {
      "text/plain": [
       "32"
      ]
     },
     "execution_count": 84,
     "metadata": {},
     "output_type": "execute_result"
    }
   ],
   "source": [
    "len(model.wm)"
   ]
  },
  {
   "cell_type": "code",
   "execution_count": 86,
   "id": "577a2a1e-849f-4853-b28c-e72e9cec306b",
   "metadata": {
    "execution": {
     "iopub.execute_input": "2024-07-08T18:05:08.727099Z",
     "iopub.status.busy": "2024-07-08T18:05:08.718085Z",
     "iopub.status.idle": "2024-07-08T18:05:08.742748Z",
     "shell.execute_reply": "2024-07-08T18:05:08.742748Z",
     "shell.execute_reply.started": "2024-07-08T18:05:08.727099Z"
    }
   },
   "outputs": [
    {
     "data": {
      "text/plain": [
       "32"
      ]
     },
     "execution_count": 86,
     "metadata": {},
     "output_type": "execute_result"
    }
   ],
   "source": [
    "len(model.wm[0])"
   ]
  },
  {
   "cell_type": "code",
   "execution_count": 87,
   "id": "30d078e3-e411-4683-979b-febb9e7b0efe",
   "metadata": {
    "execution": {
     "iopub.execute_input": "2024-07-08T18:05:19.385579Z",
     "iopub.status.busy": "2024-07-08T18:05:19.385579Z",
     "iopub.status.idle": "2024-07-08T18:05:19.416829Z",
     "shell.execute_reply": "2024-07-08T18:05:19.416829Z",
     "shell.execute_reply.started": "2024-07-08T18:05:19.385579Z"
    }
   },
   "outputs": [
    {
     "data": {
      "text/plain": [
       "array([[1., 0., 0., ..., 0., 0., 0.],\n",
       "       [0., 1., 0., ..., 0., 0., 0.],\n",
       "       [0., 0., 1., ..., 0., 0., 0.],\n",
       "       ...,\n",
       "       [0., 0., 0., ..., 1., 0., 0.],\n",
       "       [0., 0., 0., ..., 0., 1., 0.],\n",
       "       [0., 0., 0., ..., 0., 0., 1.]])"
      ]
     },
     "execution_count": 87,
     "metadata": {},
     "output_type": "execute_result"
    }
   ],
   "source": [
    "model.wmi"
   ]
  },
  {
   "cell_type": "markdown",
   "id": "b211d65b-82fa-49c2-915b-12beef528a60",
   "metadata": {
    "execution": {
     "iopub.execute_input": "2024-07-08T15:33:01.568870Z",
     "iopub.status.busy": "2024-07-08T15:33:01.568870Z",
     "iopub.status.idle": "2024-07-08T15:33:01.618771Z",
     "shell.execute_reply": "2024-07-08T15:33:01.615755Z",
     "shell.execute_reply.started": "2024-07-08T15:33:01.568870Z"
    }
   },
   "source": [
    "need:\\\n",
    "    the previous step needs to clusters/waveforms identifiable by original #\\\n",
    "    `spike_train` for each unit\\\n",
    "    `duration` is the max - min spiketrain, but needs to be in seconds I think?"
   ]
  },
  {
   "cell_type": "code",
   "execution_count": null,
   "id": "ec87eed6-726f-4bac-b13c-cd180fcd997e",
   "metadata": {},
   "outputs": [],
   "source": [
    "isi_threshold = 0.0015 #The minimum duration of a spike, in seconds\n",
    "\n",
    "duration = np.max(spike_train) – np.min(spike_train)\n",
    "\n",
    "firing_rate = spike_train.size / duration\n",
    "\n",
    "isis = np.diff(spike_train)\n",
    "\n",
    "num_spikes = size(spike_train)\n",
    "\n",
    "num_violations = np.sum(isis < isi_threshold)\n",
    "\n",
    "violation_time = 2∗num_spikes∗isi_threshold\n",
    "\n",
    "violation_rate = num_violations/violation_time\n",
    "\n",
    "isi_violation_percentage = violation_rate/firing_rate∗100"
   ]
  },
  {
   "cell_type": "code",
   "execution_count": 90,
   "id": "e7f12779-9205-4bf7-86f7-4d2036aa3e96",
   "metadata": {
    "execution": {
     "iopub.execute_input": "2024-07-08T18:09:01.245189Z",
     "iopub.status.busy": "2024-07-08T18:09:01.244196Z",
     "iopub.status.idle": "2024-07-08T18:09:01.269192Z",
     "shell.execute_reply": "2024-07-08T18:09:01.266202Z",
     "shell.execute_reply.started": "2024-07-08T18:09:01.245189Z"
    }
   },
   "outputs": [
    {
     "data": {
      "text/plain": [
       "array([1.9500000e-03, 3.1000000e-03, 7.3500000e-03, ..., 3.1796972e+03,\n",
       "       3.1797020e+03, 3.1797067e+03])"
      ]
     },
     "execution_count": 90,
     "metadata": {},
     "output_type": "execute_result"
    }
   ],
   "source": [
    "model.spike_times"
   ]
  },
  {
   "cell_type": "code",
   "execution_count": 91,
   "id": "835b1d94-9b0d-4f2f-982a-e315d3770f1c",
   "metadata": {
    "execution": {
     "iopub.execute_input": "2024-07-08T18:09:07.872526Z",
     "iopub.status.busy": "2024-07-08T18:09:07.872526Z",
     "iopub.status.idle": "2024-07-08T18:09:07.903777Z",
     "shell.execute_reply": "2024-07-08T18:09:07.903777Z",
     "shell.execute_reply.started": "2024-07-08T18:09:07.872526Z"
    }
   },
   "outputs": [
    {
     "data": {
      "text/plain": [
       "array([18,  9,  7, ...,  8,  8,  3])"
      ]
     },
     "execution_count": 91,
     "metadata": {},
     "output_type": "execute_result"
    }
   ],
   "source": [
    "model.spike_clusters"
   ]
  },
  {
   "cell_type": "code",
   "execution_count": 92,
   "id": "14563056-62f0-4dfe-acce-3d2256976fd1",
   "metadata": {
    "execution": {
     "iopub.execute_input": "2024-07-08T18:11:31.597450Z",
     "iopub.status.busy": "2024-07-08T18:11:31.595447Z",
     "iopub.status.idle": "2024-07-08T18:11:31.618453Z",
     "shell.execute_reply": "2024-07-08T18:11:31.615449Z",
     "shell.execute_reply.started": "2024-07-08T18:11:31.596446Z"
    }
   },
   "outputs": [
    {
     "data": {
      "text/plain": [
       "0.00195"
      ]
     },
     "execution_count": 92,
     "metadata": {},
     "output_type": "execute_result"
    }
   ],
   "source": [
    "model.spike_times[0]"
   ]
  },
  {
   "cell_type": "code",
   "execution_count": null,
   "id": "21eca640-d904-4f03-a8b0-3a662a73423a",
   "metadata": {},
   "outputs": [],
   "source": []
  }
 ],
 "metadata": {
  "kernelspec": {
   "display_name": "WaveMAP",
   "language": "python",
   "name": "wavemap"
  },
  "language_info": {
   "codemirror_mode": {
    "name": "ipython",
    "version": 3
   },
   "file_extension": ".py",
   "mimetype": "text/x-python",
   "name": "python",
   "nbconvert_exporter": "python",
   "pygments_lexer": "ipython3",
   "version": "3.8.19"
  }
 },
 "nbformat": 4,
 "nbformat_minor": 5
}
