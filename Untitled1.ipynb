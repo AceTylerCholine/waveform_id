{
 "cells": [
  {
   "cell_type": "code",
   "execution_count": 9,
   "id": "f2757ed6-e416-42d5-a5ea-d4938a31f57b",
   "metadata": {
    "execution": {
     "iopub.execute_input": "2024-07-08T22:49:26.099124Z",
     "iopub.status.busy": "2024-07-08T22:49:26.098121Z",
     "iopub.status.idle": "2024-07-08T22:49:26.139117Z",
     "shell.execute_reply": "2024-07-08T22:49:26.137114Z",
     "shell.execute_reply.started": "2024-07-08T22:49:26.099124Z"
    }
   },
   "outputs": [],
   "source": [
    "import pandas as pd\n",
    "import numpy as np\n",
    "import concurrent.futures\n",
    "import sys\n",
    "import matplotlib.pyplot as plt\n",
    "from sklearn.preprocessing import normalize\n",
    "from wavemap_paper.helper_functions import RAND_STATE, set_rand_state\n",
    "from phylib.io.model import load_model\n",
    "from umap import umap_ as umap\n",
    "from phylib.utils.color import selected_cluster_color\n",
    "import networkx as nx"
   ]
  },
  {
   "cell_type": "code",
   "execution_count": 2,
   "id": "1172bc08-6531-4343-b5d5-d5c81155251b",
   "metadata": {
    "execution": {
     "iopub.execute_input": "2024-07-08T22:48:04.265587Z",
     "iopub.status.busy": "2024-07-08T22:48:04.264590Z",
     "iopub.status.idle": "2024-07-08T22:48:04.334075Z",
     "shell.execute_reply": "2024-07-08T22:48:04.331746Z",
     "shell.execute_reply.started": "2024-07-08T22:48:04.265587Z"
    }
   },
   "outputs": [],
   "source": [
    "# Read the TSV file\n",
    "cluster_info = pd.read_csv(r'.\\test1\\20240320_142408_alone_comp_subj_3-1_t6b6_merged.rec\\phy\\cluster_info.tsv', sep='\\t')\n",
    "\n",
    "good_clusters = np.intersect1d(\n",
    "    cluster_info['cluster_id'][cluster_info['group'] == 'good'],\n",
    "    cluster_info['cluster_id'][cluster_info['fr'] > 0.5]\n",
    ")"
   ]
  },
  {
   "cell_type": "code",
   "execution_count": 3,
   "id": "1a809afc-fe43-4c71-bfb9-f6085a5200ba",
   "metadata": {
    "execution": {
     "iopub.execute_input": "2024-07-08T22:48:04.338081Z",
     "iopub.status.busy": "2024-07-08T22:48:04.336084Z",
     "iopub.status.idle": "2024-07-08T22:48:04.748746Z",
     "shell.execute_reply": "2024-07-08T22:48:04.747503Z",
     "shell.execute_reply.started": "2024-07-08T22:48:04.338081Z"
    }
   },
   "outputs": [],
   "source": [
    "# Directly specify the path to params.py\n",
    "params_path = r'.\\test1\\20240320_142408_alone_comp_subj_3-1_t6b6_merged.rec\\phy\\params.py'\n",
    "\n",
    "# Load the TemplateModel\n",
    "model = load_model(params_path)"
   ]
  },
  {
   "cell_type": "code",
   "execution_count": 4,
   "id": "61881246-f6ab-400e-8bc2-d65428a94c10",
   "metadata": {
    "execution": {
     "iopub.execute_input": "2024-07-08T22:48:04.753023Z",
     "iopub.status.busy": "2024-07-08T22:48:04.751017Z",
     "iopub.status.idle": "2024-07-08T22:49:21.881716Z",
     "shell.execute_reply": "2024-07-08T22:49:21.756390Z",
     "shell.execute_reply.started": "2024-07-08T22:48:04.753023Z"
    }
   },
   "outputs": [],
   "source": [
    "def process_cluster(cluster_id):\n",
    "    waveforms = model.get_cluster_spike_waveforms(cluster_id)[:, :, 0]\n",
    "    return (cluster_id, waveforms)\n",
    "\n",
    "# Dictionary to store the results\n",
    "cluster_waveforms = {}\n",
    "\n",
    "# Use ThreadPoolExecutor to handle clusters in parallel\n",
    "with concurrent.futures.ThreadPoolExecutor() as executor:\n",
    "    future_to_cluster = {executor.submit(process_cluster, cluster_id): cluster_id for cluster_id in good_clusters}\n",
    "    for future in concurrent.futures.as_completed(future_to_cluster):\n",
    "        cluster_id, best_channel_waveforms = future.result()\n",
    "        cluster_waveforms[cluster_id] = best_channel_waveforms"
   ]
  },
  {
   "cell_type": "code",
   "execution_count": 5,
   "id": "3fc7060d-eed2-44d2-890f-f5e01c5c8b9a",
   "metadata": {
    "execution": {
     "iopub.execute_input": "2024-07-08T22:49:21.928590Z",
     "iopub.status.busy": "2024-07-08T22:49:21.912965Z",
     "iopub.status.idle": "2024-07-08T22:49:25.694898Z",
     "shell.execute_reply": "2024-07-08T22:49:25.692906Z",
     "shell.execute_reply.started": "2024-07-08T22:49:21.928590Z"
    }
   },
   "outputs": [
    {
     "name": "stdout",
     "output_type": "stream",
     "text": [
      "Number of excluded units due to low SNR: 1\n"
     ]
    }
   ],
   "source": [
    "def calculate_snr(waveforms):\n",
    "    # Calculate the mean waveform across all spikes in a single cluster, ignoring NaNs\n",
    "    W_bar = np.nanmean(waveforms, axis=0)\n",
    "    # Calculate the signal amplitude (max - min of the mean waveform), ignoring NaNs\n",
    "    sig_amp = np.nanmax(W_bar) - np.nanmin(W_bar)\n",
    "    # Subtract the mean waveform from each spike to get the noise\n",
    "    noise = waveforms - np.tile(W_bar, (waveforms.shape[0], 1))\n",
    "    # Calculate the signal-to-noise ratio, ignoring NaNs\n",
    "    snr = sig_amp / (2 * np.nanstd(noise.flatten()))\n",
    "    return snr\n",
    "\n",
    "# Initialize a dictionary to hold the SNR values for each cluster\n",
    "snr_dict = {}\n",
    "\n",
    "# Iterate through each unit/spike_cluster in the cluster_waveforms dictionary\n",
    "for unit, spikes in cluster_waveforms.items():\n",
    "    if spikes.ndim == 2:\n",
    "        # Calculate SNR for each cluster's waveforms\n",
    "        snr = calculate_snr(spikes)\n",
    "        # Store the SNR value in the dictionary with its corresponding unit\n",
    "        snr_dict[unit] = snr\n",
    "    else:\n",
    "        print(f\"Skipping unit {unit} due to unexpected shape: {spikes.shape}\")\n",
    "\n",
    "# Filter and retain only waveforms with SNR >= 3\n",
    "high_snr_waveforms = {unit: spikes for unit, spikes in cluster_waveforms.items() if snr_dict[unit] >= 3}\n",
    "\n",
    "# Determine the number of units excluded due to low SNR\n",
    "excluded_units = len(snr_dict) - len(high_snr_waveforms)\n",
    "\n",
    "# Print the result\n",
    "print(f\"Number of excluded units due to low SNR: {excluded_units}\")"
   ]
  },
  {
   "cell_type": "code",
   "execution_count": 6,
   "id": "e0289c9f-9751-4e63-9e53-ea76779046b4",
   "metadata": {
    "execution": {
     "iopub.execute_input": "2024-07-08T22:49:25.722905Z",
     "iopub.status.busy": "2024-07-08T22:49:25.719913Z",
     "iopub.status.idle": "2024-07-08T22:49:25.901010Z",
     "shell.execute_reply": "2024-07-08T22:49:25.899010Z",
     "shell.execute_reply.started": "2024-07-08T22:49:25.722905Z"
    }
   },
   "outputs": [],
   "source": [
    "mean_waveforms = {}\n",
    "for key, waveforms in high_snr_waveforms.items():\n",
    "    # Calculate the mean along the first axis (axis=0) to average all spikes\n",
    "    mean_waveform = np.mean(waveforms, axis=0)\n",
    "    mean_waveforms[key] = mean_waveform"
   ]
  },
  {
   "cell_type": "code",
   "execution_count": 12,
   "id": "92f2e266-4f19-4347-b80a-b395776af5fe",
   "metadata": {
    "execution": {
     "iopub.execute_input": "2024-07-08T22:50:15.325340Z",
     "iopub.status.busy": "2024-07-08T22:50:15.325340Z",
     "iopub.status.idle": "2024-07-08T22:50:15.348342Z",
     "shell.execute_reply": "2024-07-08T22:50:15.346337Z",
     "shell.execute_reply.started": "2024-07-08T22:50:15.325340Z"
    }
   },
   "outputs": [],
   "source": [
    "# Initialize a dictionary to hold the normalized waveforms\n",
    "normWFs = {}\n",
    "\n",
    "for cluster_id, waveform in mean_waveforms.items():\n",
    "    # Mean subtraction\n",
    "    mean_subtracted_waveform = waveform - np.mean(waveform)\n",
    "    \n",
    "    # Normalization: reshape the waveform to have a shape of (1, length of waveform)\n",
    "    # for compatibility with sklearn's normalize function\n",
    "    reshaped_waveform = mean_subtracted_waveform.reshape(1, -1)\n",
    "    \n",
    "    # Normalize the waveform to have a maximum value of 1\n",
    "    normalized_waveform = normalize(reshaped_waveform, norm='max')\n",
    "    \n",
    "    # Store the normalized waveform (squeeze to remove single-dimensional entries from the shape)\n",
    "    normWFs[cluster_id] = normalized_waveform.squeeze()"
   ]
  },
  {
   "cell_type": "code",
   "execution_count": 13,
   "id": "47363f40-1c68-4485-80d6-46918056b3f0",
   "metadata": {
    "execution": {
     "iopub.execute_input": "2024-07-08T22:50:21.026094Z",
     "iopub.status.busy": "2024-07-08T22:50:21.025094Z",
     "iopub.status.idle": "2024-07-08T22:50:21.037083Z",
     "shell.execute_reply": "2024-07-08T22:50:21.035087Z",
     "shell.execute_reply.started": "2024-07-08T22:50:21.026094Z"
    }
   },
   "outputs": [],
   "source": [
    "set_rand_state(RAND_STATE)"
   ]
  },
  {
   "cell_type": "code",
   "execution_count": 14,
   "id": "13f4d4bc-e6c5-40ec-898f-ac0679bf9758",
   "metadata": {
    "execution": {
     "iopub.execute_input": "2024-07-08T22:50:21.485214Z",
     "iopub.status.busy": "2024-07-08T22:50:21.484217Z",
     "iopub.status.idle": "2024-07-08T22:50:22.703412Z",
     "shell.execute_reply": "2024-07-08T22:50:22.700417Z",
     "shell.execute_reply.started": "2024-07-08T22:50:21.485214Z"
    }
   },
   "outputs": [
    {
     "ename": "TypeError",
     "evalue": "float() argument must be a string or a number, not 'dict'",
     "output_type": "error",
     "traceback": [
      "\u001b[1;31m---------------------------------------------------------------------------\u001b[0m",
      "\u001b[1;31mTypeError\u001b[0m                                 Traceback (most recent call last)",
      "Cell \u001b[1;32mIn[14], line 3\u001b[0m\n\u001b[0;32m      1\u001b[0m reducer \u001b[38;5;241m=\u001b[39m umap\u001b[38;5;241m.\u001b[39mUMAP(random_state \u001b[38;5;241m=\u001b[39m RAND_STATE, n_neighbors \u001b[38;5;241m=\u001b[39m \u001b[38;5;241m15\u001b[39m)\n\u001b[1;32m----> 3\u001b[0m mapper \u001b[38;5;241m=\u001b[39m \u001b[43mreducer\u001b[49m\u001b[38;5;241;43m.\u001b[39;49m\u001b[43mfit\u001b[49m\u001b[43m(\u001b[49m\u001b[43mnormWFs\u001b[49m\u001b[43m)\u001b[49m\n",
      "File \u001b[1;32m~\\miniforge3\\envs\\WaveMAP\\lib\\site-packages\\umap\\umap_.py:2269\u001b[0m, in \u001b[0;36mUMAP.fit\u001b[1;34m(self, X, y)\u001b[0m\n\u001b[0;32m   2249\u001b[0m \u001b[38;5;28;01mdef\u001b[39;00m \u001b[38;5;21mfit\u001b[39m(\u001b[38;5;28mself\u001b[39m, X, y\u001b[38;5;241m=\u001b[39m\u001b[38;5;28;01mNone\u001b[39;00m):\n\u001b[0;32m   2250\u001b[0m \u001b[38;5;250m    \u001b[39m\u001b[38;5;124;03m\"\"\"Fit X into an embedded space.\u001b[39;00m\n\u001b[0;32m   2251\u001b[0m \n\u001b[0;32m   2252\u001b[0m \u001b[38;5;124;03m    Optionally use y for supervised dimension reduction.\u001b[39;00m\n\u001b[1;32m   (...)\u001b[0m\n\u001b[0;32m   2266\u001b[0m \u001b[38;5;124;03m        ``target_metric_kwds``.\u001b[39;00m\n\u001b[0;32m   2267\u001b[0m \u001b[38;5;124;03m    \"\"\"\u001b[39;00m\n\u001b[1;32m-> 2269\u001b[0m     X \u001b[38;5;241m=\u001b[39m \u001b[43mcheck_array\u001b[49m\u001b[43m(\u001b[49m\u001b[43mX\u001b[49m\u001b[43m,\u001b[49m\u001b[43m \u001b[49m\u001b[43mdtype\u001b[49m\u001b[38;5;241;43m=\u001b[39;49m\u001b[43mnp\u001b[49m\u001b[38;5;241;43m.\u001b[39;49m\u001b[43mfloat32\u001b[49m\u001b[43m,\u001b[49m\u001b[43m \u001b[49m\u001b[43maccept_sparse\u001b[49m\u001b[38;5;241;43m=\u001b[39;49m\u001b[38;5;124;43m\"\u001b[39;49m\u001b[38;5;124;43mcsr\u001b[39;49m\u001b[38;5;124;43m\"\u001b[39;49m\u001b[43m,\u001b[49m\u001b[43m \u001b[49m\u001b[43morder\u001b[49m\u001b[38;5;241;43m=\u001b[39;49m\u001b[38;5;124;43m\"\u001b[39;49m\u001b[38;5;124;43mC\u001b[39;49m\u001b[38;5;124;43m\"\u001b[39;49m\u001b[43m)\u001b[49m\n\u001b[0;32m   2270\u001b[0m     \u001b[38;5;28mself\u001b[39m\u001b[38;5;241m.\u001b[39m_raw_data \u001b[38;5;241m=\u001b[39m X\n\u001b[0;32m   2272\u001b[0m     \u001b[38;5;66;03m# Handle all the optional arguments, setting default\u001b[39;00m\n",
      "File \u001b[1;32m~\\miniforge3\\envs\\WaveMAP\\lib\\site-packages\\sklearn\\utils\\validation.py:879\u001b[0m, in \u001b[0;36mcheck_array\u001b[1;34m(array, accept_sparse, accept_large_sparse, dtype, order, copy, force_all_finite, ensure_2d, allow_nd, ensure_min_samples, ensure_min_features, estimator, input_name)\u001b[0m\n\u001b[0;32m    877\u001b[0m         array \u001b[38;5;241m=\u001b[39m xp\u001b[38;5;241m.\u001b[39mastype(array, dtype, copy\u001b[38;5;241m=\u001b[39m\u001b[38;5;28;01mFalse\u001b[39;00m)\n\u001b[0;32m    878\u001b[0m     \u001b[38;5;28;01melse\u001b[39;00m:\n\u001b[1;32m--> 879\u001b[0m         array \u001b[38;5;241m=\u001b[39m \u001b[43m_asarray_with_order\u001b[49m\u001b[43m(\u001b[49m\u001b[43marray\u001b[49m\u001b[43m,\u001b[49m\u001b[43m \u001b[49m\u001b[43morder\u001b[49m\u001b[38;5;241;43m=\u001b[39;49m\u001b[43morder\u001b[49m\u001b[43m,\u001b[49m\u001b[43m \u001b[49m\u001b[43mdtype\u001b[49m\u001b[38;5;241;43m=\u001b[39;49m\u001b[43mdtype\u001b[49m\u001b[43m,\u001b[49m\u001b[43m \u001b[49m\u001b[43mxp\u001b[49m\u001b[38;5;241;43m=\u001b[39;49m\u001b[43mxp\u001b[49m\u001b[43m)\u001b[49m\n\u001b[0;32m    880\u001b[0m \u001b[38;5;28;01mexcept\u001b[39;00m ComplexWarning \u001b[38;5;28;01mas\u001b[39;00m complex_warning:\n\u001b[0;32m    881\u001b[0m     \u001b[38;5;28;01mraise\u001b[39;00m \u001b[38;5;167;01mValueError\u001b[39;00m(\n\u001b[0;32m    882\u001b[0m         \u001b[38;5;124m\"\u001b[39m\u001b[38;5;124mComplex data not supported\u001b[39m\u001b[38;5;130;01m\\n\u001b[39;00m\u001b[38;5;132;01m{}\u001b[39;00m\u001b[38;5;130;01m\\n\u001b[39;00m\u001b[38;5;124m\"\u001b[39m\u001b[38;5;241m.\u001b[39mformat(array)\n\u001b[0;32m    883\u001b[0m     ) \u001b[38;5;28;01mfrom\u001b[39;00m \u001b[38;5;21;01mcomplex_warning\u001b[39;00m\n",
      "File \u001b[1;32m~\\miniforge3\\envs\\WaveMAP\\lib\\site-packages\\sklearn\\utils\\_array_api.py:185\u001b[0m, in \u001b[0;36m_asarray_with_order\u001b[1;34m(array, dtype, order, copy, xp)\u001b[0m\n\u001b[0;32m    182\u001b[0m     xp, _ \u001b[38;5;241m=\u001b[39m get_namespace(array)\n\u001b[0;32m    183\u001b[0m \u001b[38;5;28;01mif\u001b[39;00m xp\u001b[38;5;241m.\u001b[39m\u001b[38;5;18m__name__\u001b[39m \u001b[38;5;129;01min\u001b[39;00m {\u001b[38;5;124m\"\u001b[39m\u001b[38;5;124mnumpy\u001b[39m\u001b[38;5;124m\"\u001b[39m, \u001b[38;5;124m\"\u001b[39m\u001b[38;5;124mnumpy.array_api\u001b[39m\u001b[38;5;124m\"\u001b[39m}:\n\u001b[0;32m    184\u001b[0m     \u001b[38;5;66;03m# Use NumPy API to support order\u001b[39;00m\n\u001b[1;32m--> 185\u001b[0m     array \u001b[38;5;241m=\u001b[39m \u001b[43mnumpy\u001b[49m\u001b[38;5;241;43m.\u001b[39;49m\u001b[43masarray\u001b[49m\u001b[43m(\u001b[49m\u001b[43marray\u001b[49m\u001b[43m,\u001b[49m\u001b[43m \u001b[49m\u001b[43morder\u001b[49m\u001b[38;5;241;43m=\u001b[39;49m\u001b[43morder\u001b[49m\u001b[43m,\u001b[49m\u001b[43m \u001b[49m\u001b[43mdtype\u001b[49m\u001b[38;5;241;43m=\u001b[39;49m\u001b[43mdtype\u001b[49m\u001b[43m)\u001b[49m\n\u001b[0;32m    186\u001b[0m     \u001b[38;5;28;01mreturn\u001b[39;00m xp\u001b[38;5;241m.\u001b[39masarray(array, copy\u001b[38;5;241m=\u001b[39mcopy)\n\u001b[0;32m    187\u001b[0m \u001b[38;5;28;01melse\u001b[39;00m:\n",
      "\u001b[1;31mTypeError\u001b[0m: float() argument must be a string or a number, not 'dict'"
     ]
    }
   ],
   "source": [
    "reducer = umap.UMAP(random_state = RAND_STATE, n_neighbors = 15)\n",
    "\n",
    "mapper = reducer.fit(normWFs)"
   ]
  },
  {
   "cell_type": "code",
   "execution_count": null,
   "id": "9880b4a7-0252-4512-a3e8-75d817a65c15",
   "metadata": {},
   "outputs": [],
   "source": []
  }
 ],
 "metadata": {
  "kernelspec": {
   "display_name": "WaveMAP",
   "language": "python",
   "name": "wavemap"
  },
  "language_info": {
   "codemirror_mode": {
    "name": "ipython",
    "version": 3
   },
   "file_extension": ".py",
   "mimetype": "text/x-python",
   "name": "python",
   "nbconvert_exporter": "python",
   "pygments_lexer": "ipython3",
   "version": "3.8.19"
  }
 },
 "nbformat": 4,
 "nbformat_minor": 5
}
