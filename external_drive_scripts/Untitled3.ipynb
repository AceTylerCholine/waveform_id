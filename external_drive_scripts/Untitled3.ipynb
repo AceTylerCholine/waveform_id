{
 "cells": [
  {
   "cell_type": "code",
   "execution_count": 1,
   "id": "c548fbf9-b867-48ea-a6df-677042b4ffce",
   "metadata": {},
   "outputs": [
    {
     "name": "stdout",
     "output_type": "stream",
     "text": [
      "Contents of D:\\\\:\n",
      ".Trash-1001\n",
      ".Trash-1003\n",
      "System Volume Information\n",
      "included_files\n",
      ".dropbox.device\n",
      "pc_lab\n",
      "$RECYCLE.BIN\n"
     ]
    }
   ],
   "source": [
    "import os\n",
    "\n",
    "# Define the root of the D drive\n",
    "d_drive_root = r'D:\\\\'\n",
    "\n",
    "# List the contents of the D drive\n",
    "try:\n",
    "    contents = os.listdir(d_drive_root)\n",
    "    print(f\"Contents of {d_drive_root}:\")\n",
    "    for item in contents:\n",
    "        print(item)\n",
    "except Exception as e:\n",
    "    print(f\"An error occurred: {e}\")\n"
   ]
  },
  {
   "cell_type": "code",
   "execution_count": null,
   "id": "5deb1484-cbe7-4ed4-b8ef-20e83bbe4ffb",
   "metadata": {},
   "outputs": [],
   "source": []
  }
 ],
 "metadata": {
  "kernelspec": {
   "display_name": "Python 3 (ipykernel)",
   "language": "python",
   "name": "python3"
  },
  "language_info": {
   "codemirror_mode": {
    "name": "ipython",
    "version": 3
   },
   "file_extension": ".py",
   "mimetype": "text/x-python",
   "name": "python",
   "nbconvert_exporter": "python",
   "pygments_lexer": "ipython3",
   "version": "3.8.18"
  }
 },
 "nbformat": 4,
 "nbformat_minor": 5
}
